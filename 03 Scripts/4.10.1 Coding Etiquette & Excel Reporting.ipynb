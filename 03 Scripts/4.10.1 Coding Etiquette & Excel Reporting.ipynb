{
 "cells": [
  {
   "cell_type": "markdown",
   "id": "5f389870",
   "metadata": {},
   "source": [
    "# Table of Contents\n",
    "## 01. Importing Libraries\n",
    "## 02. Importing dataframes\n",
    "## 03. Addressing PII Data\n",
    "## 04. Comparing customer behavior in different geographic areas\n",
    "## 05. Exclusion flag - low activity customers\n",
    "## 05. Customer Profiling\n",
    "## 06. Visualizations\n",
    "## 10. Export Data"
   ]
  },
  {
   "cell_type": "markdown",
   "id": "bb6fedd8",
   "metadata": {},
   "source": [
    "# 01 Importing libraries"
   ]
  },
  {
   "cell_type": "code",
   "execution_count": 1,
   "id": "a76810aa",
   "metadata": {},
   "outputs": [],
   "source": [
    "# Importing libraries\n",
    "import pandas as pd\n",
    "import numpy as np\n",
    "import os\n",
    "import matplotlib.pyplot as plt\n",
    "import seaborn as sns\n",
    "import scipy"
   ]
  },
  {
   "cell_type": "markdown",
   "id": "4216f3ed",
   "metadata": {},
   "source": [
    "# 2 Importing dataframe"
   ]
  },
  {
   "cell_type": "code",
   "execution_count": 3,
   "id": "b1be65a0",
   "metadata": {},
   "outputs": [],
   "source": [
    "#Q1. Importing ords_prods_all dataframe\n",
    "ords_prods_all=pd.read_pickle('../02 Data/Prepared Data/orders_products_customers.pkl')"
   ]
  },
  {
   "cell_type": "code",
   "execution_count": 4,
   "id": "b56c4a93",
   "metadata": {
    "scrolled": true
   },
   "outputs": [
    {
     "name": "stdout",
     "output_type": "stream",
     "text": [
      "<class 'pandas.core.frame.DataFrame'>\n",
      "Int64Index: 32404859 entries, 0 to 32404858\n",
      "Data columns (total 34 columns):\n",
      " #   Column                 Dtype   \n",
      "---  ------                 -----   \n",
      " 0   user_id                int32   \n",
      " 1   first_name             object  \n",
      " 2   last_name              object  \n",
      " 3   gender                 category\n",
      " 4   state                  category\n",
      " 5   age                    int8    \n",
      " 6   date_joined            object  \n",
      " 7   number_of_dependants   int8    \n",
      " 8   family_status          category\n",
      " 9   income                 int32   \n",
      " 10  order_id               int32   \n",
      " 11  order_number           int8    \n",
      " 12  orders_day_of_week     int8    \n",
      " 13  order_hour_of_day      int8    \n",
      " 14  days_since_last_order  float16 \n",
      " 15  first_order            category\n",
      " 16  product_id             int32   \n",
      " 17  add_to_cart_order      int8    \n",
      " 18  reordered              int8    \n",
      " 19  product_name           category\n",
      " 20  aisle_id               int8    \n",
      " 21  department_id          int8    \n",
      " 22  prices                 float32 \n",
      " 23  price_range_loc        category\n",
      " 24  busiest_day            object  \n",
      " 25  busiest_days           category\n",
      " 26  busiest_period_of_day  category\n",
      " 27  max_order              int8    \n",
      " 28  loyalty_flag           category\n",
      " 29  average_prices         float32 \n",
      " 30  spending_flag          category\n",
      " 31  median_days            float16 \n",
      " 32  order_frequency_flag   category\n",
      " 33  _merge                 category\n",
      "dtypes: category(12), float16(2), float32(2), int32(4), int8(10), object(4)\n",
      "memory usage: 2.8+ GB\n"
     ]
    }
   ],
   "source": [
    "#Q2. Address any PII data in the data before continuing your analysis:\n",
    "ords_prods_all.info()"
   ]
  },
  {
   "cell_type": "code",
   "execution_count": 5,
   "id": "fb6af58d",
   "metadata": {},
   "outputs": [
    {
     "data": {
      "text/plain": [
       "(32404859, 34)"
      ]
     },
     "execution_count": 5,
     "metadata": {},
     "output_type": "execute_result"
    }
   ],
   "source": [
    "ords_prods_all.shape"
   ]
  },
  {
   "cell_type": "markdown",
   "id": "3cc6a6c6",
   "metadata": {},
   "source": [
    "### First and last Name are consedered PII data so these two columns will be dropped"
   ]
  },
  {
   "cell_type": "code",
   "execution_count": 6,
   "id": "ac80633b",
   "metadata": {},
   "outputs": [],
   "source": [
    "# Drop first and last name columns\n",
    "orders_products_all= ords_prods_all.drop(columns = ['first_name','last_name'])"
   ]
  },
  {
   "cell_type": "markdown",
   "id": "0409dfd4",
   "metadata": {},
   "source": [
    "# Q3. comparing customer behavior in different geographic areas"
   ]
  },
  {
   "cell_type": "code",
   "execution_count": 7,
   "id": "31ec6c98",
   "metadata": {},
   "outputs": [],
   "source": [
    "# Step 1 - Define Regions\n",
    "region=[]\n",
    "for value in orders_products_all['state']:\n",
    "    if value in ['Maine','New Hampshire','Vermont','Massachusetts','Rhode Island','Connecticut','New York','Pennsylvania','New Jersey']:\n",
    "        region.append('Northeast')\n",
    "    elif value in ['Wisconsin','Michigan','Illinois','Indiana','Ohio','North Dakota','South Dakota','Nebraska','Kansas','Minnesota','Iowa','Missouri']:\n",
    "        region.append('Midwest')\n",
    "    elif value in ['Delaware','Maryland','District of Columbia','Virginia','West Virginia','North Carolina','South Carolina','Georgia','Florida','Kentucky','Tennessee','Mississippi','Alabama','Oklahoma','Texas','Arkansas','Louisiana']:\n",
    "        region.append('South')\n",
    "    else:\n",
    "        region.append('West')"
   ]
  },
  {
   "cell_type": "code",
   "execution_count": 8,
   "id": "b3e57623",
   "metadata": {},
   "outputs": [],
   "source": [
    "# Step 2 - Create a new column\n",
    "\n",
    "orders_products_all['region'] = region"
   ]
  },
  {
   "cell_type": "code",
   "execution_count": 9,
   "id": "330f17ff",
   "metadata": {},
   "outputs": [
    {
     "data": {
      "text/html": [
       "<div>\n",
       "<style scoped>\n",
       "    .dataframe tbody tr th:only-of-type {\n",
       "        vertical-align: middle;\n",
       "    }\n",
       "\n",
       "    .dataframe tbody tr th {\n",
       "        vertical-align: top;\n",
       "    }\n",
       "\n",
       "    .dataframe thead th {\n",
       "        text-align: right;\n",
       "    }\n",
       "</style>\n",
       "<table border=\"1\" class=\"dataframe\">\n",
       "  <thead>\n",
       "    <tr style=\"text-align: right;\">\n",
       "      <th></th>\n",
       "      <th>user_id</th>\n",
       "      <th>gender</th>\n",
       "      <th>state</th>\n",
       "      <th>age</th>\n",
       "      <th>date_joined</th>\n",
       "      <th>number_of_dependants</th>\n",
       "      <th>family_status</th>\n",
       "      <th>income</th>\n",
       "      <th>order_id</th>\n",
       "      <th>order_number</th>\n",
       "      <th>...</th>\n",
       "      <th>busiest_days</th>\n",
       "      <th>busiest_period_of_day</th>\n",
       "      <th>max_order</th>\n",
       "      <th>loyalty_flag</th>\n",
       "      <th>average_prices</th>\n",
       "      <th>spending_flag</th>\n",
       "      <th>median_days</th>\n",
       "      <th>order_frequency_flag</th>\n",
       "      <th>_merge</th>\n",
       "      <th>region</th>\n",
       "    </tr>\n",
       "  </thead>\n",
       "  <tbody>\n",
       "    <tr>\n",
       "      <th>0</th>\n",
       "      <td>26711</td>\n",
       "      <td>Female</td>\n",
       "      <td>Missouri</td>\n",
       "      <td>48</td>\n",
       "      <td>1/1/2017</td>\n",
       "      <td>3</td>\n",
       "      <td>married</td>\n",
       "      <td>165665</td>\n",
       "      <td>2543867</td>\n",
       "      <td>5</td>\n",
       "      <td>...</td>\n",
       "      <td>Busiest days</td>\n",
       "      <td>Most orders</td>\n",
       "      <td>8</td>\n",
       "      <td>New customer</td>\n",
       "      <td>7.988889</td>\n",
       "      <td>Low spender</td>\n",
       "      <td>19.0</td>\n",
       "      <td>Regular customer</td>\n",
       "      <td>both</td>\n",
       "      <td>Midwest</td>\n",
       "    </tr>\n",
       "    <tr>\n",
       "      <th>1</th>\n",
       "      <td>26711</td>\n",
       "      <td>Female</td>\n",
       "      <td>Missouri</td>\n",
       "      <td>48</td>\n",
       "      <td>1/1/2017</td>\n",
       "      <td>3</td>\n",
       "      <td>married</td>\n",
       "      <td>165665</td>\n",
       "      <td>1285508</td>\n",
       "      <td>7</td>\n",
       "      <td>...</td>\n",
       "      <td>Regularly busy</td>\n",
       "      <td>Most orders</td>\n",
       "      <td>8</td>\n",
       "      <td>New customer</td>\n",
       "      <td>7.988889</td>\n",
       "      <td>Low spender</td>\n",
       "      <td>19.0</td>\n",
       "      <td>Regular customer</td>\n",
       "      <td>both</td>\n",
       "      <td>Midwest</td>\n",
       "    </tr>\n",
       "    <tr>\n",
       "      <th>2</th>\n",
       "      <td>26711</td>\n",
       "      <td>Female</td>\n",
       "      <td>Missouri</td>\n",
       "      <td>48</td>\n",
       "      <td>1/1/2017</td>\n",
       "      <td>3</td>\n",
       "      <td>married</td>\n",
       "      <td>165665</td>\n",
       "      <td>2578584</td>\n",
       "      <td>8</td>\n",
       "      <td>...</td>\n",
       "      <td>Busiest days</td>\n",
       "      <td>Most orders</td>\n",
       "      <td>8</td>\n",
       "      <td>New customer</td>\n",
       "      <td>7.988889</td>\n",
       "      <td>Low spender</td>\n",
       "      <td>19.0</td>\n",
       "      <td>Regular customer</td>\n",
       "      <td>both</td>\n",
       "      <td>Midwest</td>\n",
       "    </tr>\n",
       "    <tr>\n",
       "      <th>3</th>\n",
       "      <td>26711</td>\n",
       "      <td>Female</td>\n",
       "      <td>Missouri</td>\n",
       "      <td>48</td>\n",
       "      <td>1/1/2017</td>\n",
       "      <td>3</td>\n",
       "      <td>married</td>\n",
       "      <td>165665</td>\n",
       "      <td>423547</td>\n",
       "      <td>2</td>\n",
       "      <td>...</td>\n",
       "      <td>Regularly busy</td>\n",
       "      <td>Most orders</td>\n",
       "      <td>8</td>\n",
       "      <td>New customer</td>\n",
       "      <td>7.988889</td>\n",
       "      <td>Low spender</td>\n",
       "      <td>19.0</td>\n",
       "      <td>Regular customer</td>\n",
       "      <td>both</td>\n",
       "      <td>Midwest</td>\n",
       "    </tr>\n",
       "    <tr>\n",
       "      <th>4</th>\n",
       "      <td>26711</td>\n",
       "      <td>Female</td>\n",
       "      <td>Missouri</td>\n",
       "      <td>48</td>\n",
       "      <td>1/1/2017</td>\n",
       "      <td>3</td>\n",
       "      <td>married</td>\n",
       "      <td>165665</td>\n",
       "      <td>2524893</td>\n",
       "      <td>3</td>\n",
       "      <td>...</td>\n",
       "      <td>Slowest days</td>\n",
       "      <td>Most orders</td>\n",
       "      <td>8</td>\n",
       "      <td>New customer</td>\n",
       "      <td>7.988889</td>\n",
       "      <td>Low spender</td>\n",
       "      <td>19.0</td>\n",
       "      <td>Regular customer</td>\n",
       "      <td>both</td>\n",
       "      <td>Midwest</td>\n",
       "    </tr>\n",
       "  </tbody>\n",
       "</table>\n",
       "<p>5 rows × 33 columns</p>\n",
       "</div>"
      ],
      "text/plain": [
       "   user_id  gender     state  age date_joined  number_of_dependants  \\\n",
       "0    26711  Female  Missouri   48    1/1/2017                     3   \n",
       "1    26711  Female  Missouri   48    1/1/2017                     3   \n",
       "2    26711  Female  Missouri   48    1/1/2017                     3   \n",
       "3    26711  Female  Missouri   48    1/1/2017                     3   \n",
       "4    26711  Female  Missouri   48    1/1/2017                     3   \n",
       "\n",
       "  family_status  income  order_id  order_number  ...    busiest_days  \\\n",
       "0       married  165665   2543867             5  ...    Busiest days   \n",
       "1       married  165665   1285508             7  ...  Regularly busy   \n",
       "2       married  165665   2578584             8  ...    Busiest days   \n",
       "3       married  165665    423547             2  ...  Regularly busy   \n",
       "4       married  165665   2524893             3  ...    Slowest days   \n",
       "\n",
       "   busiest_period_of_day  max_order  loyalty_flag  average_prices  \\\n",
       "0            Most orders          8  New customer        7.988889   \n",
       "1            Most orders          8  New customer        7.988889   \n",
       "2            Most orders          8  New customer        7.988889   \n",
       "3            Most orders          8  New customer        7.988889   \n",
       "4            Most orders          8  New customer        7.988889   \n",
       "\n",
       "   spending_flag  median_days order_frequency_flag  _merge   region  \n",
       "0    Low spender         19.0     Regular customer    both  Midwest  \n",
       "1    Low spender         19.0     Regular customer    both  Midwest  \n",
       "2    Low spender         19.0     Regular customer    both  Midwest  \n",
       "3    Low spender         19.0     Regular customer    both  Midwest  \n",
       "4    Low spender         19.0     Regular customer    both  Midwest  \n",
       "\n",
       "[5 rows x 33 columns]"
      ]
     },
     "execution_count": 9,
     "metadata": {},
     "output_type": "execute_result"
    }
   ],
   "source": [
    "#Check output\n",
    "\n",
    "orders_products_all.head()"
   ]
  },
  {
   "cell_type": "code",
   "execution_count": 10,
   "id": "127c86d8",
   "metadata": {},
   "outputs": [
    {
     "data": {
      "text/plain": [
       "(32404859, 33)"
      ]
     },
     "execution_count": 10,
     "metadata": {},
     "output_type": "execute_result"
    }
   ],
   "source": [
    "orders_products_all.shape"
   ]
  },
  {
   "cell_type": "code",
   "execution_count": 11,
   "id": "8017c67a",
   "metadata": {},
   "outputs": [
    {
     "data": {
      "text/plain": [
       "South        10791885\n",
       "West          8292913\n",
       "Midwest       7597325\n",
       "Northeast     5722736\n",
       "Name: region, dtype: int64"
      ]
     },
     "execution_count": 11,
     "metadata": {},
     "output_type": "execute_result"
    }
   ],
   "source": [
    "# Check frequency\n",
    "\n",
    "orders_products_all['region'].value_counts(dropna = False)"
   ]
  },
  {
   "cell_type": "code",
   "execution_count": 12,
   "id": "80b5e460",
   "metadata": {},
   "outputs": [],
   "source": [
    "# Check if there is a difference in spending habits between the different U.S. regions\n",
    "spending_habits = pd.crosstab(orders_products_all['region'], orders_products_all['spending_flag'], dropna = False)"
   ]
  },
  {
   "cell_type": "code",
   "execution_count": 13,
   "id": "28edb1de",
   "metadata": {},
   "outputs": [
    {
     "data": {
      "text/plain": [
       "<matplotlib.legend.Legend at 0x1f9479d01d0>"
      ]
     },
     "execution_count": 13,
     "metadata": {},
     "output_type": "execute_result"
    },
    {
     "data": {
      "image/png": "[encoded data removed]",
      "text/plain": [
       "<Figure size 640x480 with 1 Axes>"
      ]
     },
     "metadata": {},
     "output_type": "display_data"
    }
   ],
   "source": [
    "spending_habits_bar = spending_habits.plot.bar()\n",
    "plt.title('Spending Habits by US Region')\n",
    "plt.legend(loc='center left', bbox_to_anchor=(1.0, 0.5))"
   ]
  },
  {
   "cell_type": "code",
   "execution_count": 14,
   "id": "542d75ec",
   "metadata": {},
   "outputs": [],
   "source": [
    "#Export bar chart\n",
    "spending_habits_bar.figure.savefig(os.path.join(path,'04 Analysis','Visualizations','Spending Habits by US Region.png'),bbox_inches='tight')"
   ]
  },
  {
   "cell_type": "markdown",
   "id": "c88e811d",
   "metadata": {},
   "source": [
    "# Q4 Create an exclusion flag for low-activity customers (customers with less than 5 orders) "
   ]
  },
  {
   "cell_type": "code",
   "execution_count": 14,
   "id": "3d69d66b",
   "metadata": {},
   "outputs": [],
   "source": [
    "# Create customer activity column\n",
    "\n",
    "orders_products_all.loc[orders_products_all['max_order']>=5,'customer_activity']='High_activity_customer'"
   ]
  },
  {
   "cell_type": "code",
   "execution_count": 15,
   "id": "d81f7a31",
   "metadata": {},
   "outputs": [],
   "source": [
    "orders_products_all.loc[orders_products_all['max_order']<5,'customer_activity']='Low_activity_customer'"
   ]
  },
  {
   "cell_type": "code",
   "execution_count": 16,
   "id": "27ce91f4",
   "metadata": {},
   "outputs": [
    {
     "data": {
      "text/plain": [
       "High_activity_customer    30964564\n",
       "Low_activity_customer      1440295\n",
       "Name: customer_activity, dtype: int64"
      ]
     },
     "execution_count": 16,
     "metadata": {},
     "output_type": "execute_result"
    }
   ],
   "source": [
    "# Check frequency\n",
    "\n",
    "orders_products_all['customer_activity'].value_counts(dropna = False)"
   ]
  },
  {
   "cell_type": "code",
   "execution_count": 17,
   "id": "74705dca",
   "metadata": {},
   "outputs": [],
   "source": [
    "# Create a subset for Low_activity_customers\n",
    "\n",
    "low_active_customers = orders_products_all.loc[orders_products_all['customer_activity'] == 'Low_activity_customer']"
   ]
  },
  {
   "cell_type": "code",
   "execution_count": 21,
   "id": "e498fd7f",
   "metadata": {},
   "outputs": [],
   "source": [
    "# Export the low active customers\n",
    "\n",
    "low_active_customers.to_pickle('../02 Data/Prepared Data/Low_activity_Customers.pkl')"
   ]
  },
  {
   "cell_type": "code",
   "execution_count": 22,
   "id": "268e818e",
   "metadata": {},
   "outputs": [
    {
     "name": "stdout",
     "output_type": "stream",
     "text": [
      "<class 'pandas.core.frame.DataFrame'>\n",
      "Int64Index: 30964564 entries, 0 to 32404817\n",
      "Data columns (total 34 columns):\n",
      " #   Column                 Dtype   \n",
      "---  ------                 -----   \n",
      " 0   user_id                int32   \n",
      " 1   gender                 category\n",
      " 2   state                  category\n",
      " 3   age                    int8    \n",
      " 4   date_joined            object  \n",
      " 5   number_of_dependants   int8    \n",
      " 6   family_status          category\n",
      " 7   income                 int32   \n",
      " 8   order_id               int32   \n",
      " 9   order_number           int8    \n",
      " 10  orders_day_of_week     int8    \n",
      " 11  order_hour_of_day      int8    \n",
      " 12  days_since_last_order  float16 \n",
      " 13  first_order            category\n",
      " 14  product_id             int32   \n",
      " 15  add_to_cart_order      int8    \n",
      " 16  reordered              int8    \n",
      " 17  product_name           category\n",
      " 18  aisle_id               int8    \n",
      " 19  department_id          int8    \n",
      " 20  prices                 float32 \n",
      " 21  price_range_loc        category\n",
      " 22  busiest_day            object  \n",
      " 23  busiest_days           category\n",
      " 24  busiest_period_of_day  category\n",
      " 25  max_order              int8    \n",
      " 26  loyalty_flag           category\n",
      " 27  average_prices         float32 \n",
      " 28  spending_flag          category\n",
      " 29  median_days            float16 \n",
      " 30  order_frequency_flag   category\n",
      " 31  _merge                 category\n",
      " 32  region                 category\n",
      " 33  customer_activity      category\n",
      "dtypes: category(14), float16(2), float32(2), int32(4), int8(10), object(2)\n",
      "memory usage: 2.3+ GB\n"
     ]
    }
   ],
   "source": [
    "orders_products_all.info()"
   ]
  },
  {
   "cell_type": "code",
   "execution_count": 18,
   "id": "c946327d",
   "metadata": {},
   "outputs": [],
   "source": [
    "orders_products_all['region']=orders_products_all['region'].astype('category')\n",
    "orders_products_all['customer_activity']=orders_products_all['customer_activity'].astype('category')"
   ]
  },
  {
   "cell_type": "code",
   "execution_count": 23,
   "id": "1ec751d5",
   "metadata": {},
   "outputs": [],
   "source": [
    "# Exclude low_activity_customer from the data\n",
    "\n",
    "orders_products_all = orders_products_all.loc[orders_products_all ['customer_activity'] == 'High_activity_customer']"
   ]
  },
  {
   "cell_type": "code",
   "execution_count": 24,
   "id": "33a55e0e",
   "metadata": {},
   "outputs": [
    {
     "data": {
      "text/plain": [
       "High_activity_customer    30964564\n",
       "Low_activity_customer            0\n",
       "Name: customer_activity, dtype: int64"
      ]
     },
     "execution_count": 24,
     "metadata": {},
     "output_type": "execute_result"
    }
   ],
   "source": [
    "# Check frequency\n",
    "\n",
    "orders_products_all['customer_activity'].value_counts(dropna = False)"
   ]
  },
  {
   "cell_type": "code",
   "execution_count": 25,
   "id": "2492bac7",
   "metadata": {},
   "outputs": [
    {
     "data": {
      "text/html": [
       "<div>\n",
       "<style scoped>\n",
       "    .dataframe tbody tr th:only-of-type {\n",
       "        vertical-align: middle;\n",
       "    }\n",
       "\n",
       "    .dataframe tbody tr th {\n",
       "        vertical-align: top;\n",
       "    }\n",
       "\n",
       "    .dataframe thead th {\n",
       "        text-align: right;\n",
       "    }\n",
       "</style>\n",
       "<table border=\"1\" class=\"dataframe\">\n",
       "  <thead>\n",
       "    <tr style=\"text-align: right;\">\n",
       "      <th></th>\n",
       "      <th>user_id</th>\n",
       "      <th>gender</th>\n",
       "      <th>state</th>\n",
       "      <th>age</th>\n",
       "      <th>date_joined</th>\n",
       "      <th>number_of_dependants</th>\n",
       "      <th>family_status</th>\n",
       "      <th>income</th>\n",
       "      <th>order_id</th>\n",
       "      <th>order_number</th>\n",
       "      <th>...</th>\n",
       "      <th>busiest_period_of_day</th>\n",
       "      <th>max_order</th>\n",
       "      <th>loyalty_flag</th>\n",
       "      <th>average_prices</th>\n",
       "      <th>spending_flag</th>\n",
       "      <th>median_days</th>\n",
       "      <th>order_frequency_flag</th>\n",
       "      <th>_merge</th>\n",
       "      <th>region</th>\n",
       "      <th>customer_activity</th>\n",
       "    </tr>\n",
       "  </thead>\n",
       "  <tbody>\n",
       "    <tr>\n",
       "      <th>0</th>\n",
       "      <td>26711</td>\n",
       "      <td>Female</td>\n",
       "      <td>Missouri</td>\n",
       "      <td>48</td>\n",
       "      <td>1/1/2017</td>\n",
       "      <td>3</td>\n",
       "      <td>married</td>\n",
       "      <td>165665</td>\n",
       "      <td>2543867</td>\n",
       "      <td>5</td>\n",
       "      <td>...</td>\n",
       "      <td>Most orders</td>\n",
       "      <td>8</td>\n",
       "      <td>New customer</td>\n",
       "      <td>7.988889</td>\n",
       "      <td>Low spender</td>\n",
       "      <td>19.0</td>\n",
       "      <td>Regular customer</td>\n",
       "      <td>both</td>\n",
       "      <td>Midwest</td>\n",
       "      <td>High_activity_customer</td>\n",
       "    </tr>\n",
       "    <tr>\n",
       "      <th>1</th>\n",
       "      <td>26711</td>\n",
       "      <td>Female</td>\n",
       "      <td>Missouri</td>\n",
       "      <td>48</td>\n",
       "      <td>1/1/2017</td>\n",
       "      <td>3</td>\n",
       "      <td>married</td>\n",
       "      <td>165665</td>\n",
       "      <td>1285508</td>\n",
       "      <td>7</td>\n",
       "      <td>...</td>\n",
       "      <td>Most orders</td>\n",
       "      <td>8</td>\n",
       "      <td>New customer</td>\n",
       "      <td>7.988889</td>\n",
       "      <td>Low spender</td>\n",
       "      <td>19.0</td>\n",
       "      <td>Regular customer</td>\n",
       "      <td>both</td>\n",
       "      <td>Midwest</td>\n",
       "      <td>High_activity_customer</td>\n",
       "    </tr>\n",
       "    <tr>\n",
       "      <th>2</th>\n",
       "      <td>26711</td>\n",
       "      <td>Female</td>\n",
       "      <td>Missouri</td>\n",
       "      <td>48</td>\n",
       "      <td>1/1/2017</td>\n",
       "      <td>3</td>\n",
       "      <td>married</td>\n",
       "      <td>165665</td>\n",
       "      <td>2578584</td>\n",
       "      <td>8</td>\n",
       "      <td>...</td>\n",
       "      <td>Most orders</td>\n",
       "      <td>8</td>\n",
       "      <td>New customer</td>\n",
       "      <td>7.988889</td>\n",
       "      <td>Low spender</td>\n",
       "      <td>19.0</td>\n",
       "      <td>Regular customer</td>\n",
       "      <td>both</td>\n",
       "      <td>Midwest</td>\n",
       "      <td>High_activity_customer</td>\n",
       "    </tr>\n",
       "    <tr>\n",
       "      <th>3</th>\n",
       "      <td>26711</td>\n",
       "      <td>Female</td>\n",
       "      <td>Missouri</td>\n",
       "      <td>48</td>\n",
       "      <td>1/1/2017</td>\n",
       "      <td>3</td>\n",
       "      <td>married</td>\n",
       "      <td>165665</td>\n",
       "      <td>423547</td>\n",
       "      <td>2</td>\n",
       "      <td>...</td>\n",
       "      <td>Most orders</td>\n",
       "      <td>8</td>\n",
       "      <td>New customer</td>\n",
       "      <td>7.988889</td>\n",
       "      <td>Low spender</td>\n",
       "      <td>19.0</td>\n",
       "      <td>Regular customer</td>\n",
       "      <td>both</td>\n",
       "      <td>Midwest</td>\n",
       "      <td>High_activity_customer</td>\n",
       "    </tr>\n",
       "    <tr>\n",
       "      <th>4</th>\n",
       "      <td>26711</td>\n",
       "      <td>Female</td>\n",
       "      <td>Missouri</td>\n",
       "      <td>48</td>\n",
       "      <td>1/1/2017</td>\n",
       "      <td>3</td>\n",
       "      <td>married</td>\n",
       "      <td>165665</td>\n",
       "      <td>2524893</td>\n",
       "      <td>3</td>\n",
       "      <td>...</td>\n",
       "      <td>Most orders</td>\n",
       "      <td>8</td>\n",
       "      <td>New customer</td>\n",
       "      <td>7.988889</td>\n",
       "      <td>Low spender</td>\n",
       "      <td>19.0</td>\n",
       "      <td>Regular customer</td>\n",
       "      <td>both</td>\n",
       "      <td>Midwest</td>\n",
       "      <td>High_activity_customer</td>\n",
       "    </tr>\n",
       "  </tbody>\n",
       "</table>\n",
       "<p>5 rows × 34 columns</p>\n",
       "</div>"
      ],
      "text/plain": [
       "   user_id  gender     state  age date_joined  number_of_dependants  \\\n",
       "0    26711  Female  Missouri   48    1/1/2017                     3   \n",
       "1    26711  Female  Missouri   48    1/1/2017                     3   \n",
       "2    26711  Female  Missouri   48    1/1/2017                     3   \n",
       "3    26711  Female  Missouri   48    1/1/2017                     3   \n",
       "4    26711  Female  Missouri   48    1/1/2017                     3   \n",
       "\n",
       "  family_status  income  order_id  order_number  ...  busiest_period_of_day  \\\n",
       "0       married  165665   2543867             5  ...            Most orders   \n",
       "1       married  165665   1285508             7  ...            Most orders   \n",
       "2       married  165665   2578584             8  ...            Most orders   \n",
       "3       married  165665    423547             2  ...            Most orders   \n",
       "4       married  165665   2524893             3  ...            Most orders   \n",
       "\n",
       "   max_order  loyalty_flag average_prices  spending_flag  median_days  \\\n",
       "0          8  New customer       7.988889    Low spender         19.0   \n",
       "1          8  New customer       7.988889    Low spender         19.0   \n",
       "2          8  New customer       7.988889    Low spender         19.0   \n",
       "3          8  New customer       7.988889    Low spender         19.0   \n",
       "4          8  New customer       7.988889    Low spender         19.0   \n",
       "\n",
       "   order_frequency_flag _merge   region       customer_activity  \n",
       "0      Regular customer   both  Midwest  High_activity_customer  \n",
       "1      Regular customer   both  Midwest  High_activity_customer  \n",
       "2      Regular customer   both  Midwest  High_activity_customer  \n",
       "3      Regular customer   both  Midwest  High_activity_customer  \n",
       "4      Regular customer   both  Midwest  High_activity_customer  \n",
       "\n",
       "[5 rows x 34 columns]"
      ]
     },
     "execution_count": 25,
     "metadata": {},
     "output_type": "execute_result"
    }
   ],
   "source": [
    "orders_products_all.head()"
   ]
  },
  {
   "cell_type": "markdown",
   "id": "ccdc4c79",
   "metadata": {},
   "source": [
    "# Q5. Create a profiling variable based on age, income, certain goods in the “department_id” column, and number of dependents."
   ]
  },
  {
   "cell_type": "code",
   "execution_count": 26,
   "id": "6eaa7e2c",
   "metadata": {},
   "outputs": [
    {
     "data": {
      "text/html": [
       "<div>\n",
       "<style scoped>\n",
       "    .dataframe tbody tr th:only-of-type {\n",
       "        vertical-align: middle;\n",
       "    }\n",
       "\n",
       "    .dataframe tbody tr th {\n",
       "        vertical-align: top;\n",
       "    }\n",
       "\n",
       "    .dataframe thead th {\n",
       "        text-align: right;\n",
       "    }\n",
       "</style>\n",
       "<table border=\"1\" class=\"dataframe\">\n",
       "  <thead>\n",
       "    <tr style=\"text-align: right;\">\n",
       "      <th></th>\n",
       "      <th>age</th>\n",
       "      <th>income</th>\n",
       "      <th>number_of_dependants</th>\n",
       "    </tr>\n",
       "  </thead>\n",
       "  <tbody>\n",
       "    <tr>\n",
       "      <th>count</th>\n",
       "      <td>30,964,564.00</td>\n",
       "      <td>30,964,564.00</td>\n",
       "      <td>30,964,564.00</td>\n",
       "    </tr>\n",
       "    <tr>\n",
       "      <th>mean</th>\n",
       "      <td>49.47</td>\n",
       "      <td>99,675.87</td>\n",
       "      <td>1.50</td>\n",
       "    </tr>\n",
       "    <tr>\n",
       "      <th>std</th>\n",
       "      <td>18.49</td>\n",
       "      <td>43,141.87</td>\n",
       "      <td>1.12</td>\n",
       "    </tr>\n",
       "    <tr>\n",
       "      <th>min</th>\n",
       "      <td>18.00</td>\n",
       "      <td>25,903.00</td>\n",
       "      <td>0.00</td>\n",
       "    </tr>\n",
       "    <tr>\n",
       "      <th>25%</th>\n",
       "      <td>33.00</td>\n",
       "      <td>67,292.00</td>\n",
       "      <td>1.00</td>\n",
       "    </tr>\n",
       "    <tr>\n",
       "      <th>50%</th>\n",
       "      <td>49.00</td>\n",
       "      <td>96,765.00</td>\n",
       "      <td>2.00</td>\n",
       "    </tr>\n",
       "    <tr>\n",
       "      <th>75%</th>\n",
       "      <td>65.00</td>\n",
       "      <td>128,102.00</td>\n",
       "      <td>3.00</td>\n",
       "    </tr>\n",
       "    <tr>\n",
       "      <th>max</th>\n",
       "      <td>81.00</td>\n",
       "      <td>593,901.00</td>\n",
       "      <td>3.00</td>\n",
       "    </tr>\n",
       "  </tbody>\n",
       "</table>\n",
       "</div>"
      ],
      "text/plain": [
       "                 age         income number_of_dependants\n",
       "count  30,964,564.00  30,964,564.00        30,964,564.00\n",
       "mean           49.47      99,675.87                 1.50\n",
       "std            18.49      43,141.87                 1.12\n",
       "min            18.00      25,903.00                 0.00\n",
       "25%            33.00      67,292.00                 1.00\n",
       "50%            49.00      96,765.00                 2.00\n",
       "75%            65.00     128,102.00                 3.00\n",
       "max            81.00     593,901.00                 3.00"
      ]
     },
     "execution_count": 26,
     "metadata": {},
     "output_type": "execute_result"
    }
   ],
   "source": [
    "# check simple statestic for the variables age, income, and number of dependants\n",
    "orders_products_all[['age', 'income', 'number_of_dependants']].describe().applymap('{:,.2f}'.format)"
   ]
  },
  {
   "cell_type": "markdown",
   "id": "82c87780",
   "metadata": {},
   "source": [
    "# Age Variable"
   ]
  },
  {
   "cell_type": "code",
   "execution_count": 31,
   "id": "ee5cc22a",
   "metadata": {},
   "outputs": [],
   "source": [
    "# Create Age Profile by creating age flag\n",
    "orders_products_all.loc[orders_products_all['age'] < 40,'age_category'] = 'young_adult'"
   ]
  },
  {
   "cell_type": "code",
   "execution_count": 28,
   "id": "011f877d",
   "metadata": {},
   "outputs": [],
   "source": [
    "orders_products_all.loc[orders_products_all['age'] >= 40 & (orders_products_all['age'] < 60), 'age_category'] = 'middle_aged_adult'"
   ]
  },
  {
   "cell_type": "code",
   "execution_count": 29,
   "id": "fd953628",
   "metadata": {},
   "outputs": [],
   "source": [
    "orders_products_all.loc[orders_products_all['age'] >= 60,'age_category']='old_adult'"
   ]
  },
  {
   "cell_type": "code",
   "execution_count": 32,
   "id": "5859fc64",
   "metadata": {},
   "outputs": [
    {
     "data": {
      "text/plain": [
       "young_adult          10665110\n",
       "old_adult            10574504\n",
       "middle_aged_adult     9724950\n",
       "Name: age_category, dtype: int64"
      ]
     },
     "execution_count": 32,
     "metadata": {},
     "output_type": "execute_result"
    }
   ],
   "source": [
    "# Check output\n",
    "\n",
    "orders_products_all['age_category'].value_counts()"
   ]
  },
  {
   "cell_type": "markdown",
   "id": "2761c462",
   "metadata": {},
   "source": [
    "# Income Variable"
   ]
  },
  {
   "cell_type": "code",
   "execution_count": 33,
   "id": "4ccbdd0c",
   "metadata": {},
   "outputs": [],
   "source": [
    "# Create Income Profile by creating income flag by destributing the income into three categories\n",
    "orders_products_all.loc[orders_products_all['income']<70000, 'income_category'] = 'Low-income'"
   ]
  },
  {
   "cell_type": "code",
   "execution_count": 34,
   "id": "34783eb3",
   "metadata": {},
   "outputs": [],
   "source": [
    "orders_products_all.loc[(orders_products_all['income']>=70000) & (orders_products_all['income']<=150000), 'income_category'] = 'Middle-income'"
   ]
  },
  {
   "cell_type": "code",
   "execution_count": 35,
   "id": "a90e77a3",
   "metadata": {},
   "outputs": [],
   "source": [
    "orders_products_all.loc[orders_products_all['income']>150000, 'income_category'] = 'High-income'"
   ]
  },
  {
   "cell_type": "code",
   "execution_count": 36,
   "id": "e5ab9b13",
   "metadata": {},
   "outputs": [
    {
     "data": {
      "text/plain": [
       "Middle-income    18549497\n",
       "Low-income        8520533\n",
       "High-income       3894534\n",
       "Name: income_category, dtype: int64"
      ]
     },
     "execution_count": 36,
     "metadata": {},
     "output_type": "execute_result"
    }
   ],
   "source": [
    "# Check output\n",
    "\n",
    "orders_products_all['income_category'].value_counts()"
   ]
  },
  {
   "cell_type": "code",
   "execution_count": 37,
   "id": "db094388",
   "metadata": {},
   "outputs": [],
   "source": [
    "#Exporting orders_products_all dataframe due to lack of memory and will continue the task in 4.10.2\n",
    "orders_products_all.to_pickle('../02 Data/Prepared Data/orders_products_all_4.10.1.pkl')"
   ]
  }
 ],
 "metadata": {
  "kernelspec": {
   "display_name": "Python 3 (ipykernel)",
   "language": "python",
   "name": "python3"
  },
  "language_info": {
   "codemirror_mode": {
    "name": "ipython",
    "version": 3
   },
   "file_extension": ".py",
   "mimetype": "text/x-python",
   "name": "python",
   "nbconvert_exporter": "python",
   "pygments_lexer": "ipython3",
   "version": "3.11.3"
  }
 },
 "nbformat": 4,
 "nbformat_minor": 5
}
