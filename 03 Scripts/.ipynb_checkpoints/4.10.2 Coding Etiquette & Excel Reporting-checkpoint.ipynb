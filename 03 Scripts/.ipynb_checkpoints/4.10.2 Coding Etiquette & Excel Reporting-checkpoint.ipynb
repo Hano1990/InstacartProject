{
 "cells": [
  {
   "cell_type": "markdown",
   "id": "ed88ed94",
   "metadata": {},
   "source": [
    "# Table of Contents Cont.\n",
    "## 01. Importing Libraries\n",
    "## 02. Importing dataframes\n",
    "## 03. Merging dataframes\n",
    "## 05. Customer Profiling (Cont. from previous Nootbook)\n",
    "## 06. Visualization to show distribution of profiles\n",
    "## 07. Aggregate varibles on customer profile\n",
    "## 08. & 09. Compare customer profiles with regions and departments with Visualizations\n",
    "## 10. Export Dataframe"
   ]
  },
  {
   "cell_type": "markdown",
   "id": "ad8fb9ad",
   "metadata": {},
   "source": [
    "# 01 Importing libraries"
   ]
  },
  {
   "cell_type": "code",
   "execution_count": 1,
   "id": "f79578c4",
   "metadata": {},
   "outputs": [],
   "source": [
    "# Importing libraries\n",
    "import pandas as pd\n",
    "import numpy as np\n",
    "import os\n",
    "import matplotlib.pyplot as plt\n",
    "import seaborn as sns\n",
    "import scipy"
   ]
  },
  {
   "cell_type": "markdown",
   "id": "62a4e5ad",
   "metadata": {},
   "source": [
    "# 2 Importing dataframe"
   ]
  },
  {
   "cell_type": "code",
   "execution_count": 3,
   "id": "47484fd5",
   "metadata": {},
   "outputs": [],
   "source": [
    "#Importing ords_prods_all dataframe\n",
    "ords_prods_all=pd.read_pickle('../02 Data/Prepared Data/orders_products_all_4.10.1.pkl')"
   ]
  },
  {
   "cell_type": "code",
   "execution_count": 4,
   "id": "4c4fd508",
   "metadata": {},
   "outputs": [],
   "source": [
    "# Change data type\n",
    "\n",
    "ords_prods_all['customer_activity']=ords_prods_all['customer_activity'].astype('category')\n",
    "ords_prods_all['age_category']=ords_prods_all['age_category'].astype('category')\n",
    "ords_prods_all['income_category']=ords_prods_all['income_category'].astype('category')"
   ]
  },
  {
   "cell_type": "code",
   "execution_count": 5,
   "id": "db03c7a2",
   "metadata": {},
   "outputs": [
    {
     "name": "stdout",
     "output_type": "stream",
     "text": [
      "<class 'pandas.core.frame.DataFrame'>\n",
      "Int64Index: 30964564 entries, 0 to 32404817\n",
      "Data columns (total 36 columns):\n",
      " #   Column                 Dtype   \n",
      "---  ------                 -----   \n",
      " 0   user_id                int32   \n",
      " 1   gender                 category\n",
      " 2   state                  category\n",
      " 3   age                    int8    \n",
      " 4   date_joined            object  \n",
      " 5   number_of_dependants   int8    \n",
      " 6   family_status          category\n",
      " 7   income                 int32   \n",
      " 8   order_id               int32   \n",
      " 9   order_number           int8    \n",
      " 10  orders_day_of_week     int8    \n",
      " 11  order_hour_of_day      int8    \n",
      " 12  days_since_last_order  float16 \n",
      " 13  first_order            category\n",
      " 14  product_id             int32   \n",
      " 15  add_to_cart_order      int8    \n",
      " 16  reordered              int8    \n",
      " 17  product_name           category\n",
      " 18  aisle_id               int8    \n",
      " 19  department_id          int8    \n",
      " 20  prices                 float32 \n",
      " 21  price_range_loc        category\n",
      " 22  busiest_day            object  \n",
      " 23  busiest_days           category\n",
      " 24  busiest_period_of_day  category\n",
      " 25  max_order              int8    \n",
      " 26  loyalty_flag           category\n",
      " 27  average_prices         float32 \n",
      " 28  spending_flag          category\n",
      " 29  median_days            float16 \n",
      " 30  order_frequency_flag   category\n",
      " 31  _merge                 category\n",
      " 32  region                 category\n",
      " 33  customer_activity      category\n",
      " 34  age_category           category\n",
      " 35  income_category        category\n",
      "dtypes: category(16), float16(2), float32(2), int32(4), int8(10), object(2)\n",
      "memory usage: 2.3+ GB\n"
     ]
    }
   ],
   "source": [
    "ords_prods_all.info()"
   ]
  },
  {
   "cell_type": "code",
   "execution_count": 6,
   "id": "87f76d6d",
   "metadata": {},
   "outputs": [
    {
     "data": {
      "text/plain": [
       "(30964564, 36)"
      ]
     },
     "execution_count": 6,
     "metadata": {},
     "output_type": "execute_result"
    }
   ],
   "source": [
    "ords_prods_all.shape"
   ]
  },
  {
   "cell_type": "code",
   "execution_count": 7,
   "id": "c04b6235",
   "metadata": {},
   "outputs": [],
   "source": [
    "ords_prods_all=ords_prods_all.drop(columns= ['_merge'])"
   ]
  },
  {
   "cell_type": "code",
   "execution_count": 8,
   "id": "a4d4d153",
   "metadata": {},
   "outputs": [
    {
     "data": {
      "text/plain": [
       "(30964564, 35)"
      ]
     },
     "execution_count": 8,
     "metadata": {},
     "output_type": "execute_result"
    }
   ],
   "source": [
    "ords_prods_all.shape"
   ]
  },
  {
   "cell_type": "code",
   "execution_count": 9,
   "id": "e5f78819",
   "metadata": {},
   "outputs": [
    {
     "data": {
      "text/html": [
       "<div>\n",
       "<style scoped>\n",
       "    .dataframe tbody tr th:only-of-type {\n",
       "        vertical-align: middle;\n",
       "    }\n",
       "\n",
       "    .dataframe tbody tr th {\n",
       "        vertical-align: top;\n",
       "    }\n",
       "\n",
       "    .dataframe thead th {\n",
       "        text-align: right;\n",
       "    }\n",
       "</style>\n",
       "<table border=\"1\" class=\"dataframe\">\n",
       "  <thead>\n",
       "    <tr style=\"text-align: right;\">\n",
       "      <th></th>\n",
       "      <th>user_id</th>\n",
       "      <th>gender</th>\n",
       "      <th>state</th>\n",
       "      <th>age</th>\n",
       "      <th>date_joined</th>\n",
       "      <th>number_of_dependants</th>\n",
       "      <th>family_status</th>\n",
       "      <th>income</th>\n",
       "      <th>order_id</th>\n",
       "      <th>order_number</th>\n",
       "      <th>...</th>\n",
       "      <th>max_order</th>\n",
       "      <th>loyalty_flag</th>\n",
       "      <th>average_prices</th>\n",
       "      <th>spending_flag</th>\n",
       "      <th>median_days</th>\n",
       "      <th>order_frequency_flag</th>\n",
       "      <th>region</th>\n",
       "      <th>customer_activity</th>\n",
       "      <th>age_category</th>\n",
       "      <th>income_category</th>\n",
       "    </tr>\n",
       "  </thead>\n",
       "  <tbody>\n",
       "    <tr>\n",
       "      <th>0</th>\n",
       "      <td>26711</td>\n",
       "      <td>Female</td>\n",
       "      <td>Missouri</td>\n",
       "      <td>48</td>\n",
       "      <td>1/1/2017</td>\n",
       "      <td>3</td>\n",
       "      <td>married</td>\n",
       "      <td>165665</td>\n",
       "      <td>2543867</td>\n",
       "      <td>5</td>\n",
       "      <td>...</td>\n",
       "      <td>8</td>\n",
       "      <td>New customer</td>\n",
       "      <td>7.988889</td>\n",
       "      <td>Low spender</td>\n",
       "      <td>19.0</td>\n",
       "      <td>Regular customer</td>\n",
       "      <td>Midwest</td>\n",
       "      <td>High_activity_customer</td>\n",
       "      <td>middle_aged_adult</td>\n",
       "      <td>High-income</td>\n",
       "    </tr>\n",
       "    <tr>\n",
       "      <th>1</th>\n",
       "      <td>26711</td>\n",
       "      <td>Female</td>\n",
       "      <td>Missouri</td>\n",
       "      <td>48</td>\n",
       "      <td>1/1/2017</td>\n",
       "      <td>3</td>\n",
       "      <td>married</td>\n",
       "      <td>165665</td>\n",
       "      <td>1285508</td>\n",
       "      <td>7</td>\n",
       "      <td>...</td>\n",
       "      <td>8</td>\n",
       "      <td>New customer</td>\n",
       "      <td>7.988889</td>\n",
       "      <td>Low spender</td>\n",
       "      <td>19.0</td>\n",
       "      <td>Regular customer</td>\n",
       "      <td>Midwest</td>\n",
       "      <td>High_activity_customer</td>\n",
       "      <td>middle_aged_adult</td>\n",
       "      <td>High-income</td>\n",
       "    </tr>\n",
       "    <tr>\n",
       "      <th>2</th>\n",
       "      <td>26711</td>\n",
       "      <td>Female</td>\n",
       "      <td>Missouri</td>\n",
       "      <td>48</td>\n",
       "      <td>1/1/2017</td>\n",
       "      <td>3</td>\n",
       "      <td>married</td>\n",
       "      <td>165665</td>\n",
       "      <td>2578584</td>\n",
       "      <td>8</td>\n",
       "      <td>...</td>\n",
       "      <td>8</td>\n",
       "      <td>New customer</td>\n",
       "      <td>7.988889</td>\n",
       "      <td>Low spender</td>\n",
       "      <td>19.0</td>\n",
       "      <td>Regular customer</td>\n",
       "      <td>Midwest</td>\n",
       "      <td>High_activity_customer</td>\n",
       "      <td>middle_aged_adult</td>\n",
       "      <td>High-income</td>\n",
       "    </tr>\n",
       "    <tr>\n",
       "      <th>3</th>\n",
       "      <td>26711</td>\n",
       "      <td>Female</td>\n",
       "      <td>Missouri</td>\n",
       "      <td>48</td>\n",
       "      <td>1/1/2017</td>\n",
       "      <td>3</td>\n",
       "      <td>married</td>\n",
       "      <td>165665</td>\n",
       "      <td>423547</td>\n",
       "      <td>2</td>\n",
       "      <td>...</td>\n",
       "      <td>8</td>\n",
       "      <td>New customer</td>\n",
       "      <td>7.988889</td>\n",
       "      <td>Low spender</td>\n",
       "      <td>19.0</td>\n",
       "      <td>Regular customer</td>\n",
       "      <td>Midwest</td>\n",
       "      <td>High_activity_customer</td>\n",
       "      <td>middle_aged_adult</td>\n",
       "      <td>High-income</td>\n",
       "    </tr>\n",
       "    <tr>\n",
       "      <th>4</th>\n",
       "      <td>26711</td>\n",
       "      <td>Female</td>\n",
       "      <td>Missouri</td>\n",
       "      <td>48</td>\n",
       "      <td>1/1/2017</td>\n",
       "      <td>3</td>\n",
       "      <td>married</td>\n",
       "      <td>165665</td>\n",
       "      <td>2524893</td>\n",
       "      <td>3</td>\n",
       "      <td>...</td>\n",
       "      <td>8</td>\n",
       "      <td>New customer</td>\n",
       "      <td>7.988889</td>\n",
       "      <td>Low spender</td>\n",
       "      <td>19.0</td>\n",
       "      <td>Regular customer</td>\n",
       "      <td>Midwest</td>\n",
       "      <td>High_activity_customer</td>\n",
       "      <td>middle_aged_adult</td>\n",
       "      <td>High-income</td>\n",
       "    </tr>\n",
       "  </tbody>\n",
       "</table>\n",
       "<p>5 rows × 35 columns</p>\n",
       "</div>"
      ],
      "text/plain": [
       "   user_id  gender     state  age date_joined  number_of_dependants  \\\n",
       "0    26711  Female  Missouri   48    1/1/2017                     3   \n",
       "1    26711  Female  Missouri   48    1/1/2017                     3   \n",
       "2    26711  Female  Missouri   48    1/1/2017                     3   \n",
       "3    26711  Female  Missouri   48    1/1/2017                     3   \n",
       "4    26711  Female  Missouri   48    1/1/2017                     3   \n",
       "\n",
       "  family_status  income  order_id  order_number  ...  max_order  loyalty_flag  \\\n",
       "0       married  165665   2543867             5  ...          8  New customer   \n",
       "1       married  165665   1285508             7  ...          8  New customer   \n",
       "2       married  165665   2578584             8  ...          8  New customer   \n",
       "3       married  165665    423547             2  ...          8  New customer   \n",
       "4       married  165665   2524893             3  ...          8  New customer   \n",
       "\n",
       "   average_prices spending_flag  median_days  order_frequency_flag   region  \\\n",
       "0        7.988889   Low spender         19.0      Regular customer  Midwest   \n",
       "1        7.988889   Low spender         19.0      Regular customer  Midwest   \n",
       "2        7.988889   Low spender         19.0      Regular customer  Midwest   \n",
       "3        7.988889   Low spender         19.0      Regular customer  Midwest   \n",
       "4        7.988889   Low spender         19.0      Regular customer  Midwest   \n",
       "\n",
       "        customer_activity       age_category  income_category  \n",
       "0  High_activity_customer  middle_aged_adult      High-income  \n",
       "1  High_activity_customer  middle_aged_adult      High-income  \n",
       "2  High_activity_customer  middle_aged_adult      High-income  \n",
       "3  High_activity_customer  middle_aged_adult      High-income  \n",
       "4  High_activity_customer  middle_aged_adult      High-income  \n",
       "\n",
       "[5 rows x 35 columns]"
      ]
     },
     "execution_count": 9,
     "metadata": {},
     "output_type": "execute_result"
    }
   ],
   "source": [
    "ords_prods_all.head()"
   ]
  },
  {
   "cell_type": "markdown",
   "id": "b584d8ef",
   "metadata": {},
   "source": [
    "# Q5 Cont."
   ]
  },
  {
   "cell_type": "markdown",
   "id": "034bcc19",
   "metadata": {},
   "source": [
    "# Department Variable"
   ]
  },
  {
   "cell_type": "code",
   "execution_count": 10,
   "id": "bb8a4c64",
   "metadata": {},
   "outputs": [],
   "source": [
    "# Import Department dataframe\n",
    "dept=pd.read_csv('../02 Data/Prepared Data/departments_wrangled.csv'),index_col = False)"
   ]
  },
  {
   "cell_type": "code",
   "execution_count": 11,
   "id": "8b449649",
   "metadata": {},
   "outputs": [
    {
     "data": {
      "text/html": [
       "<div>\n",
       "<style scoped>\n",
       "    .dataframe tbody tr th:only-of-type {\n",
       "        vertical-align: middle;\n",
       "    }\n",
       "\n",
       "    .dataframe tbody tr th {\n",
       "        vertical-align: top;\n",
       "    }\n",
       "\n",
       "    .dataframe thead th {\n",
       "        text-align: right;\n",
       "    }\n",
       "</style>\n",
       "<table border=\"1\" class=\"dataframe\">\n",
       "  <thead>\n",
       "    <tr style=\"text-align: right;\">\n",
       "      <th></th>\n",
       "      <th>Unnamed: 0</th>\n",
       "      <th>department</th>\n",
       "    </tr>\n",
       "  </thead>\n",
       "  <tbody>\n",
       "    <tr>\n",
       "      <th>0</th>\n",
       "      <td>1</td>\n",
       "      <td>frozen</td>\n",
       "    </tr>\n",
       "    <tr>\n",
       "      <th>1</th>\n",
       "      <td>2</td>\n",
       "      <td>other</td>\n",
       "    </tr>\n",
       "    <tr>\n",
       "      <th>2</th>\n",
       "      <td>3</td>\n",
       "      <td>bakery</td>\n",
       "    </tr>\n",
       "    <tr>\n",
       "      <th>3</th>\n",
       "      <td>4</td>\n",
       "      <td>produce</td>\n",
       "    </tr>\n",
       "    <tr>\n",
       "      <th>4</th>\n",
       "      <td>5</td>\n",
       "      <td>alcohol</td>\n",
       "    </tr>\n",
       "    <tr>\n",
       "      <th>5</th>\n",
       "      <td>6</td>\n",
       "      <td>international</td>\n",
       "    </tr>\n",
       "    <tr>\n",
       "      <th>6</th>\n",
       "      <td>7</td>\n",
       "      <td>beverages</td>\n",
       "    </tr>\n",
       "    <tr>\n",
       "      <th>7</th>\n",
       "      <td>8</td>\n",
       "      <td>pets</td>\n",
       "    </tr>\n",
       "    <tr>\n",
       "      <th>8</th>\n",
       "      <td>9</td>\n",
       "      <td>dry goods pasta</td>\n",
       "    </tr>\n",
       "    <tr>\n",
       "      <th>9</th>\n",
       "      <td>10</td>\n",
       "      <td>bulk</td>\n",
       "    </tr>\n",
       "    <tr>\n",
       "      <th>10</th>\n",
       "      <td>11</td>\n",
       "      <td>personal care</td>\n",
       "    </tr>\n",
       "    <tr>\n",
       "      <th>11</th>\n",
       "      <td>12</td>\n",
       "      <td>meat seafood</td>\n",
       "    </tr>\n",
       "    <tr>\n",
       "      <th>12</th>\n",
       "      <td>13</td>\n",
       "      <td>pantry</td>\n",
       "    </tr>\n",
       "    <tr>\n",
       "      <th>13</th>\n",
       "      <td>14</td>\n",
       "      <td>breakfast</td>\n",
       "    </tr>\n",
       "    <tr>\n",
       "      <th>14</th>\n",
       "      <td>15</td>\n",
       "      <td>canned goods</td>\n",
       "    </tr>\n",
       "    <tr>\n",
       "      <th>15</th>\n",
       "      <td>16</td>\n",
       "      <td>dairy eggs</td>\n",
       "    </tr>\n",
       "    <tr>\n",
       "      <th>16</th>\n",
       "      <td>17</td>\n",
       "      <td>household</td>\n",
       "    </tr>\n",
       "    <tr>\n",
       "      <th>17</th>\n",
       "      <td>18</td>\n",
       "      <td>babies</td>\n",
       "    </tr>\n",
       "    <tr>\n",
       "      <th>18</th>\n",
       "      <td>19</td>\n",
       "      <td>snacks</td>\n",
       "    </tr>\n",
       "    <tr>\n",
       "      <th>19</th>\n",
       "      <td>20</td>\n",
       "      <td>deli</td>\n",
       "    </tr>\n",
       "    <tr>\n",
       "      <th>20</th>\n",
       "      <td>21</td>\n",
       "      <td>missing</td>\n",
       "    </tr>\n",
       "  </tbody>\n",
       "</table>\n",
       "</div>"
      ],
      "text/plain": [
       "    Unnamed: 0       department\n",
       "0            1           frozen\n",
       "1            2            other\n",
       "2            3           bakery\n",
       "3            4          produce\n",
       "4            5          alcohol\n",
       "5            6    international\n",
       "6            7        beverages\n",
       "7            8             pets\n",
       "8            9  dry goods pasta\n",
       "9           10             bulk\n",
       "10          11    personal care\n",
       "11          12     meat seafood\n",
       "12          13           pantry\n",
       "13          14        breakfast\n",
       "14          15     canned goods\n",
       "15          16       dairy eggs\n",
       "16          17        household\n",
       "17          18           babies\n",
       "18          19           snacks\n",
       "19          20             deli\n",
       "20          21          missing"
      ]
     },
     "execution_count": 11,
     "metadata": {},
     "output_type": "execute_result"
    }
   ],
   "source": [
    "dept"
   ]
  },
  {
   "cell_type": "code",
   "execution_count": 12,
   "id": "85d3b69b",
   "metadata": {},
   "outputs": [],
   "source": [
    "# Rename the \"Unnamed: 0\" column\n",
    "\n",
    "dept.rename(columns={'Unnamed: 0':'department_id'},inplace=True)"
   ]
  },
  {
   "cell_type": "code",
   "execution_count": 13,
   "id": "2ac69cd0",
   "metadata": {},
   "outputs": [
    {
     "data": {
      "text/html": [
       "<div>\n",
       "<style scoped>\n",
       "    .dataframe tbody tr th:only-of-type {\n",
       "        vertical-align: middle;\n",
       "    }\n",
       "\n",
       "    .dataframe tbody tr th {\n",
       "        vertical-align: top;\n",
       "    }\n",
       "\n",
       "    .dataframe thead th {\n",
       "        text-align: right;\n",
       "    }\n",
       "</style>\n",
       "<table border=\"1\" class=\"dataframe\">\n",
       "  <thead>\n",
       "    <tr style=\"text-align: right;\">\n",
       "      <th></th>\n",
       "      <th>department_id</th>\n",
       "      <th>department</th>\n",
       "    </tr>\n",
       "  </thead>\n",
       "  <tbody>\n",
       "    <tr>\n",
       "      <th>0</th>\n",
       "      <td>1</td>\n",
       "      <td>frozen</td>\n",
       "    </tr>\n",
       "    <tr>\n",
       "      <th>1</th>\n",
       "      <td>2</td>\n",
       "      <td>other</td>\n",
       "    </tr>\n",
       "    <tr>\n",
       "      <th>2</th>\n",
       "      <td>3</td>\n",
       "      <td>bakery</td>\n",
       "    </tr>\n",
       "    <tr>\n",
       "      <th>3</th>\n",
       "      <td>4</td>\n",
       "      <td>produce</td>\n",
       "    </tr>\n",
       "    <tr>\n",
       "      <th>4</th>\n",
       "      <td>5</td>\n",
       "      <td>alcohol</td>\n",
       "    </tr>\n",
       "    <tr>\n",
       "      <th>5</th>\n",
       "      <td>6</td>\n",
       "      <td>international</td>\n",
       "    </tr>\n",
       "    <tr>\n",
       "      <th>6</th>\n",
       "      <td>7</td>\n",
       "      <td>beverages</td>\n",
       "    </tr>\n",
       "    <tr>\n",
       "      <th>7</th>\n",
       "      <td>8</td>\n",
       "      <td>pets</td>\n",
       "    </tr>\n",
       "    <tr>\n",
       "      <th>8</th>\n",
       "      <td>9</td>\n",
       "      <td>dry goods pasta</td>\n",
       "    </tr>\n",
       "    <tr>\n",
       "      <th>9</th>\n",
       "      <td>10</td>\n",
       "      <td>bulk</td>\n",
       "    </tr>\n",
       "    <tr>\n",
       "      <th>10</th>\n",
       "      <td>11</td>\n",
       "      <td>personal care</td>\n",
       "    </tr>\n",
       "    <tr>\n",
       "      <th>11</th>\n",
       "      <td>12</td>\n",
       "      <td>meat seafood</td>\n",
       "    </tr>\n",
       "    <tr>\n",
       "      <th>12</th>\n",
       "      <td>13</td>\n",
       "      <td>pantry</td>\n",
       "    </tr>\n",
       "    <tr>\n",
       "      <th>13</th>\n",
       "      <td>14</td>\n",
       "      <td>breakfast</td>\n",
       "    </tr>\n",
       "    <tr>\n",
       "      <th>14</th>\n",
       "      <td>15</td>\n",
       "      <td>canned goods</td>\n",
       "    </tr>\n",
       "    <tr>\n",
       "      <th>15</th>\n",
       "      <td>16</td>\n",
       "      <td>dairy eggs</td>\n",
       "    </tr>\n",
       "    <tr>\n",
       "      <th>16</th>\n",
       "      <td>17</td>\n",
       "      <td>household</td>\n",
       "    </tr>\n",
       "    <tr>\n",
       "      <th>17</th>\n",
       "      <td>18</td>\n",
       "      <td>babies</td>\n",
       "    </tr>\n",
       "    <tr>\n",
       "      <th>18</th>\n",
       "      <td>19</td>\n",
       "      <td>snacks</td>\n",
       "    </tr>\n",
       "    <tr>\n",
       "      <th>19</th>\n",
       "      <td>20</td>\n",
       "      <td>deli</td>\n",
       "    </tr>\n",
       "    <tr>\n",
       "      <th>20</th>\n",
       "      <td>21</td>\n",
       "      <td>missing</td>\n",
       "    </tr>\n",
       "  </tbody>\n",
       "</table>\n",
       "</div>"
      ],
      "text/plain": [
       "    department_id       department\n",
       "0               1           frozen\n",
       "1               2            other\n",
       "2               3           bakery\n",
       "3               4          produce\n",
       "4               5          alcohol\n",
       "5               6    international\n",
       "6               7        beverages\n",
       "7               8             pets\n",
       "8               9  dry goods pasta\n",
       "9              10             bulk\n",
       "10             11    personal care\n",
       "11             12     meat seafood\n",
       "12             13           pantry\n",
       "13             14        breakfast\n",
       "14             15     canned goods\n",
       "15             16       dairy eggs\n",
       "16             17        household\n",
       "17             18           babies\n",
       "18             19           snacks\n",
       "19             20             deli\n",
       "20             21          missing"
      ]
     },
     "execution_count": 13,
     "metadata": {},
     "output_type": "execute_result"
    }
   ],
   "source": [
    "dept"
   ]
  },
  {
   "cell_type": "code",
   "execution_count": 14,
   "id": "8128183c",
   "metadata": {},
   "outputs": [],
   "source": [
    "# Change data type\n",
    "\n",
    "dept['department_id']=dept['department_id'].astype('int8')"
   ]
  },
  {
   "cell_type": "code",
   "execution_count": null,
   "id": "5e0b9ac9",
   "metadata": {},
   "outputs": [],
   "source": [
    "# Merge orders_products_all with Instacart_all\n",
    "\n",
    "Instacart_all =ords_prods_all.merge(dept,on='department_id', indicator = True)"
   ]
  },
  {
   "cell_type": "code",
   "execution_count": 16,
   "id": "d5d06428",
   "metadata": {},
   "outputs": [
    {
     "data": {
      "text/plain": [
       "both          30964564\n",
       "left_only            0\n",
       "right_only           0\n",
       "Name: _merge, dtype: int64"
      ]
     },
     "execution_count": 16,
     "metadata": {},
     "output_type": "execute_result"
    }
   ],
   "source": [
    "Instacart_all['_merge'].value_counts()"
   ]
  },
  {
   "cell_type": "code",
   "execution_count": 17,
   "id": "1419fc84",
   "metadata": {},
   "outputs": [
    {
     "data": {
      "text/html": [
       "<div>\n",
       "<style scoped>\n",
       "    .dataframe tbody tr th:only-of-type {\n",
       "        vertical-align: middle;\n",
       "    }\n",
       "\n",
       "    .dataframe tbody tr th {\n",
       "        vertical-align: top;\n",
       "    }\n",
       "\n",
       "    .dataframe thead th {\n",
       "        text-align: right;\n",
       "    }\n",
       "</style>\n",
       "<table border=\"1\" class=\"dataframe\">\n",
       "  <thead>\n",
       "    <tr style=\"text-align: right;\">\n",
       "      <th></th>\n",
       "      <th>user_id</th>\n",
       "      <th>gender</th>\n",
       "      <th>state</th>\n",
       "      <th>age</th>\n",
       "      <th>date_joined</th>\n",
       "      <th>number_of_dependants</th>\n",
       "      <th>family_status</th>\n",
       "      <th>income</th>\n",
       "      <th>order_id</th>\n",
       "      <th>order_number</th>\n",
       "      <th>...</th>\n",
       "      <th>average_prices</th>\n",
       "      <th>spending_flag</th>\n",
       "      <th>median_days</th>\n",
       "      <th>order_frequency_flag</th>\n",
       "      <th>region</th>\n",
       "      <th>customer_activity</th>\n",
       "      <th>age_category</th>\n",
       "      <th>income_category</th>\n",
       "      <th>department</th>\n",
       "      <th>_merge</th>\n",
       "    </tr>\n",
       "  </thead>\n",
       "  <tbody>\n",
       "    <tr>\n",
       "      <th>0</th>\n",
       "      <td>26711</td>\n",
       "      <td>Female</td>\n",
       "      <td>Missouri</td>\n",
       "      <td>48</td>\n",
       "      <td>1/1/2017</td>\n",
       "      <td>3</td>\n",
       "      <td>married</td>\n",
       "      <td>165665</td>\n",
       "      <td>2543867</td>\n",
       "      <td>5</td>\n",
       "      <td>...</td>\n",
       "      <td>7.988889</td>\n",
       "      <td>Low spender</td>\n",
       "      <td>19.0</td>\n",
       "      <td>Regular customer</td>\n",
       "      <td>Midwest</td>\n",
       "      <td>High_activity_customer</td>\n",
       "      <td>middle_aged_adult</td>\n",
       "      <td>High-income</td>\n",
       "      <td>beverages</td>\n",
       "      <td>both</td>\n",
       "    </tr>\n",
       "    <tr>\n",
       "      <th>1</th>\n",
       "      <td>26711</td>\n",
       "      <td>Female</td>\n",
       "      <td>Missouri</td>\n",
       "      <td>48</td>\n",
       "      <td>1/1/2017</td>\n",
       "      <td>3</td>\n",
       "      <td>married</td>\n",
       "      <td>165665</td>\n",
       "      <td>1285508</td>\n",
       "      <td>7</td>\n",
       "      <td>...</td>\n",
       "      <td>7.988889</td>\n",
       "      <td>Low spender</td>\n",
       "      <td>19.0</td>\n",
       "      <td>Regular customer</td>\n",
       "      <td>Midwest</td>\n",
       "      <td>High_activity_customer</td>\n",
       "      <td>middle_aged_adult</td>\n",
       "      <td>High-income</td>\n",
       "      <td>beverages</td>\n",
       "      <td>both</td>\n",
       "    </tr>\n",
       "    <tr>\n",
       "      <th>2</th>\n",
       "      <td>26711</td>\n",
       "      <td>Female</td>\n",
       "      <td>Missouri</td>\n",
       "      <td>48</td>\n",
       "      <td>1/1/2017</td>\n",
       "      <td>3</td>\n",
       "      <td>married</td>\n",
       "      <td>165665</td>\n",
       "      <td>2578584</td>\n",
       "      <td>8</td>\n",
       "      <td>...</td>\n",
       "      <td>7.988889</td>\n",
       "      <td>Low spender</td>\n",
       "      <td>19.0</td>\n",
       "      <td>Regular customer</td>\n",
       "      <td>Midwest</td>\n",
       "      <td>High_activity_customer</td>\n",
       "      <td>middle_aged_adult</td>\n",
       "      <td>High-income</td>\n",
       "      <td>beverages</td>\n",
       "      <td>both</td>\n",
       "    </tr>\n",
       "    <tr>\n",
       "      <th>3</th>\n",
       "      <td>33890</td>\n",
       "      <td>Female</td>\n",
       "      <td>New Mexico</td>\n",
       "      <td>36</td>\n",
       "      <td>1/1/2017</td>\n",
       "      <td>0</td>\n",
       "      <td>single</td>\n",
       "      <td>59285</td>\n",
       "      <td>1044841</td>\n",
       "      <td>3</td>\n",
       "      <td>...</td>\n",
       "      <td>7.057534</td>\n",
       "      <td>Low spender</td>\n",
       "      <td>26.0</td>\n",
       "      <td>Non-frequent customer</td>\n",
       "      <td>West</td>\n",
       "      <td>High_activity_customer</td>\n",
       "      <td>young_adult</td>\n",
       "      <td>Low-income</td>\n",
       "      <td>beverages</td>\n",
       "      <td>both</td>\n",
       "    </tr>\n",
       "    <tr>\n",
       "      <th>4</th>\n",
       "      <td>33890</td>\n",
       "      <td>Female</td>\n",
       "      <td>New Mexico</td>\n",
       "      <td>36</td>\n",
       "      <td>1/1/2017</td>\n",
       "      <td>0</td>\n",
       "      <td>single</td>\n",
       "      <td>59285</td>\n",
       "      <td>474720</td>\n",
       "      <td>4</td>\n",
       "      <td>...</td>\n",
       "      <td>7.057534</td>\n",
       "      <td>Low spender</td>\n",
       "      <td>26.0</td>\n",
       "      <td>Non-frequent customer</td>\n",
       "      <td>West</td>\n",
       "      <td>High_activity_customer</td>\n",
       "      <td>young_adult</td>\n",
       "      <td>Low-income</td>\n",
       "      <td>beverages</td>\n",
       "      <td>both</td>\n",
       "    </tr>\n",
       "  </tbody>\n",
       "</table>\n",
       "<p>5 rows × 37 columns</p>\n",
       "</div>"
      ],
      "text/plain": [
       "   user_id  gender       state  age date_joined  number_of_dependants  \\\n",
       "0    26711  Female    Missouri   48    1/1/2017                     3   \n",
       "1    26711  Female    Missouri   48    1/1/2017                     3   \n",
       "2    26711  Female    Missouri   48    1/1/2017                     3   \n",
       "3    33890  Female  New Mexico   36    1/1/2017                     0   \n",
       "4    33890  Female  New Mexico   36    1/1/2017                     0   \n",
       "\n",
       "  family_status  income  order_id  order_number  ...  average_prices  \\\n",
       "0       married  165665   2543867             5  ...        7.988889   \n",
       "1       married  165665   1285508             7  ...        7.988889   \n",
       "2       married  165665   2578584             8  ...        7.988889   \n",
       "3        single   59285   1044841             3  ...        7.057534   \n",
       "4        single   59285    474720             4  ...        7.057534   \n",
       "\n",
       "   spending_flag  median_days   order_frequency_flag   region  \\\n",
       "0    Low spender         19.0       Regular customer  Midwest   \n",
       "1    Low spender         19.0       Regular customer  Midwest   \n",
       "2    Low spender         19.0       Regular customer  Midwest   \n",
       "3    Low spender         26.0  Non-frequent customer     West   \n",
       "4    Low spender         26.0  Non-frequent customer     West   \n",
       "\n",
       "        customer_activity       age_category income_category  department  \\\n",
       "0  High_activity_customer  middle_aged_adult     High-income   beverages   \n",
       "1  High_activity_customer  middle_aged_adult     High-income   beverages   \n",
       "2  High_activity_customer  middle_aged_adult     High-income   beverages   \n",
       "3  High_activity_customer        young_adult      Low-income   beverages   \n",
       "4  High_activity_customer        young_adult      Low-income   beverages   \n",
       "\n",
       "   _merge  \n",
       "0    both  \n",
       "1    both  \n",
       "2    both  \n",
       "3    both  \n",
       "4    both  \n",
       "\n",
       "[5 rows x 37 columns]"
      ]
     },
     "execution_count": 17,
     "metadata": {},
     "output_type": "execute_result"
    }
   ],
   "source": [
    "# Check output\n",
    "\n",
    "Instacart_all.head()"
   ]
  },
  {
   "cell_type": "code",
   "execution_count": 18,
   "id": "edea3762",
   "metadata": {},
   "outputs": [],
   "source": [
    "# Exporting Instacart_all dataframe\n",
    "Instacart_all.to_pickle('../02 Data/Prepared Data/Instacart_all.1.pkl')"
   ]
  },
  {
   "cell_type": "code",
   "execution_count": 3,
   "id": "4b82dffd",
   "metadata": {},
   "outputs": [],
   "source": [
    "#Importing Instacart_all dataframe\n",
    "Instacart_all=pd.read_pickle('../02 Data/Prepared Data/Instacart_all.1.pkl')"
   ]
  },
  {
   "cell_type": "code",
   "execution_count": null,
   "id": "86392e1a",
   "metadata": {},
   "outputs": [],
   "source": [
    "Instacart_all['age_category'].value_counts()"
   ]
  },
  {
   "cell_type": "code",
   "execution_count": 19,
   "id": "13c7421a",
   "metadata": {},
   "outputs": [
    {
     "data": {
      "text/plain": [
       "Text(0.5, 1.0, 'Number of Orders by Department')"
      ]
     },
     "execution_count": 19,
     "metadata": {},
     "output_type": "execute_result"
    },
    {
     "data": {
      "image/png": "[encoded data removed]",
      "text/plain": [
       "<Figure size 640x480 with 1 Axes>"
      ]
     },
     "metadata": {},
     "output_type": "display_data"
    }
   ],
   "source": [
    "# Create a bar chart\n",
    "\n",
    "department_bar_chart = Instacart_all['department'].value_counts().plot.bar()\n",
    "plt.title('Number of Orders by Department')"
   ]
  },
  {
   "cell_type": "code",
   "execution_count": null,
   "id": "49ab7f55",
   "metadata": {},
   "outputs": [],
   "source": [
    "# Exporting orders per departments bar chart\n",
    "\n",
    "department_bar_chart.figure.savefig(('../04 Analysis/Visualizations/department_bar_chart.png'),bbox_inches='tight')"
   ]
  },
  {
   "cell_type": "code",
   "execution_count": 4,
   "id": "705d02c7",
   "metadata": {},
   "outputs": [],
   "source": [
    "# Create a flag to profile vageterian vs non-vageterian\n",
    "Instacart_all.loc[Instacart_all['department_id'] == 12, 'customer_type'] = 'non_vageterian'"
   ]
  },
  {
   "cell_type": "code",
   "execution_count": 5,
   "id": "7db63223",
   "metadata": {},
   "outputs": [],
   "source": [
    "Instacart_all.loc[Instacart_all['department_id'] != 12, 'customer_type'] = 'vageterian'"
   ]
  },
  {
   "cell_type": "code",
   "execution_count": 6,
   "id": "8b6b7023",
   "metadata": {},
   "outputs": [],
   "source": [
    "# Use user_id to identify non-vageterian\n",
    "\n",
    "non_vageterian_column = Instacart_all.loc[Instacart_all['customer_type'] == 'non_vageterian', 'user_id'].unique()"
   ]
  },
  {
   "cell_type": "code",
   "execution_count": 7,
   "id": "b987b4b3",
   "metadata": {},
   "outputs": [],
   "source": [
    "# Update the \"customer_type\" column\n",
    "\n",
    "Instacart_all.loc[Instacart_all['user_id'].isin(non_vageterian_column), 'customer_type'] = 'non_vageterian'"
   ]
  },
  {
   "cell_type": "code",
   "execution_count": 8,
   "id": "37705fbd",
   "metadata": {
    "scrolled": true
   },
   "outputs": [
    {
     "data": {
      "text/plain": [
       "non_vageterian    23065332\n",
       "vageterian         7899232\n",
       "Name: customer_type, dtype: int64"
      ]
     },
     "execution_count": 8,
     "metadata": {},
     "output_type": "execute_result"
    }
   ],
   "source": [
    "# Check output\n",
    "\n",
    "Instacart_all['customer_type'].value_counts()"
   ]
  },
  {
   "cell_type": "markdown",
   "id": "30d4eae8",
   "metadata": {},
   "source": [
    "# Number of Dependant Varible"
   ]
  },
  {
   "cell_type": "code",
   "execution_count": 11,
   "id": "60e77498",
   "metadata": {},
   "outputs": [
    {
     "data": {
      "text/plain": [
       "young_adult          10665110\n",
       "old_adult            10574504\n",
       "middle_aged_adult     9724950\n",
       "Name: age_category, dtype: int64"
      ]
     },
     "execution_count": 11,
     "metadata": {},
     "output_type": "execute_result"
    }
   ],
   "source": [
    "Instacart_all['age_category'].value_counts()"
   ]
  },
  {
   "cell_type": "code",
   "execution_count": 12,
   "id": "0cda5cfa",
   "metadata": {},
   "outputs": [],
   "source": [
    "# Creating a Parental_profile flage by age group\n",
    "\n",
    "Instacart_all.loc[(Instacart_all['age_category']=='young_adult') & (Instacart_all['number_of_dependants']==0), 'Parental_profile'] = 'Young Adult'"
   ]
  },
  {
   "cell_type": "code",
   "execution_count": 13,
   "id": "0a5fac51",
   "metadata": {},
   "outputs": [],
   "source": [
    "Instacart_all.loc[(Instacart_all['age_category']=='young_adult') & (Instacart_all['number_of_dependants']>=1), 'Parental_profile'] = 'Young parent'"
   ]
  },
  {
   "cell_type": "code",
   "execution_count": 14,
   "id": "9b0897cb",
   "metadata": {},
   "outputs": [],
   "source": [
    "Instacart_all.loc[(Instacart_all['age_category']=='middle_aged_adult') & (Instacart_all['number_of_dependants']==0), 'Parental_profile'] = 'Middle aged adult'"
   ]
  },
  {
   "cell_type": "code",
   "execution_count": 15,
   "id": "78b34062",
   "metadata": {},
   "outputs": [],
   "source": [
    "Instacart_all.loc[(Instacart_all['age_category']=='middle_aged_adult') & (Instacart_all['number_of_dependants']>=1), 'Parental_profile'] = 'Middle aged parent'"
   ]
  },
  {
   "cell_type": "code",
   "execution_count": 16,
   "id": "9769b3f1",
   "metadata": {},
   "outputs": [],
   "source": [
    "Instacart_all.loc[(Instacart_all['age_category']=='old_adult') & (Instacart_all['number_of_dependants']==0), 'Parental_profile'] = 'Old adult'"
   ]
  },
  {
   "cell_type": "code",
   "execution_count": 17,
   "id": "fe02edf6",
   "metadata": {},
   "outputs": [],
   "source": [
    "Instacart_all.loc[(Instacart_all['age_category']=='old_adult') & (Instacart_all['number_of_dependants']>=1), 'Parental_profile'] = 'Old Parent'"
   ]
  },
  {
   "cell_type": "code",
   "execution_count": 18,
   "id": "34fd3914",
   "metadata": {},
   "outputs": [
    {
     "data": {
      "text/plain": [
       "Young parent          8004535\n",
       "Old Parent            7929233\n",
       "Middle aged parent    7291115\n",
       "Young Adult           2660575\n",
       "Old adult             2645271\n",
       "Middle aged adult     2433835\n",
       "Name: Parental_profile, dtype: int64"
      ]
     },
     "execution_count": 18,
     "metadata": {},
     "output_type": "execute_result"
    }
   ],
   "source": [
    "# Check outcome\n",
    "Instacart_all['Parental_profile'].value_counts()"
   ]
  },
  {
   "cell_type": "code",
   "execution_count": 19,
   "id": "67926daf",
   "metadata": {},
   "outputs": [],
   "source": [
    "# Check Parental_profile column with orders_day_of_week\n",
    "Parental_profile_order_days_week = pd.crosstab(Instacart_all['orders_day_of_week'],Instacart_all['Parental_profile'],dropna=False)"
   ]
  },
  {
   "cell_type": "code",
   "execution_count": 20,
   "id": "0ec9cdb5",
   "metadata": {},
   "outputs": [
    {
     "data": {
      "text/plain": [
       "<matplotlib.legend.Legend at 0x271cb7ccc10>"
      ]
     },
     "execution_count": 20,
     "metadata": {},
     "output_type": "execute_result"
    },
    {
     "data": {
      "image/png": "[encoded data removed]",
      "text/plain": [
       "<Figure size 640x480 with 1 Axes>"
      ]
     },
     "metadata": {},
     "output_type": "display_data"
    }
   ],
   "source": [
    "# Create Parental_profile column compared by orders_day_of_week bar chart\n",
    "Parental_profile_order_days_week_bar = Parental_profile_order_days_week.plot.bar()\n",
    "plt.title('Orders by Day of the Week and Parental_profile')\n",
    "plt.legend(loc='center left', bbox_to_anchor=(1.0, 0.5))"
   ]
  },
  {
   "cell_type": "code",
   "execution_count": 21,
   "id": "4d7d761c",
   "metadata": {},
   "outputs": [],
   "source": [
    "# Exporting Orders by Day of the Week and family Status bar chart\n",
    "Parental_profile_order_days_week_bar.figure.savefig(('../04 Analysis/Visualizations/Parental_profile_order_days_week_bar.png'),bbox_inches='tight')"
   ]
  },
  {
   "cell_type": "code",
   "execution_count": 22,
   "id": "35760e82",
   "metadata": {},
   "outputs": [],
   "source": [
    "# Check family status flag column with order_hour_of_day\n",
    "Parental_profile_order_hour_day = pd.crosstab(Instacart_all['order_hour_of_day'],Instacart_all['Parental_profile'],dropna=False)"
   ]
  },
  {
   "cell_type": "code",
   "execution_count": 23,
   "id": "db15a0b7",
   "metadata": {},
   "outputs": [
    {
     "data": {
      "text/plain": [
       "<matplotlib.legend.Legend at 0x2729abf84d0>"
      ]
     },
     "execution_count": 23,
     "metadata": {},
     "output_type": "execute_result"
    },
    {
     "data": {
      "image/png": "[encoded data removed]",
      "text/plain": [
       "<Figure size 640x480 with 1 Axes>"
      ]
     },
     "metadata": {},
     "output_type": "display_data"
    }
   ],
   "source": [
    "# Create family status flag column compared by order_hour_of_day bar chart\n",
    "Parental_profile_order_hour_day_bar = Parental_profile_order_hour_day.plot.bar(stacked = True)\n",
    "plt.title('Orders by Hour of the Day and Parental Profile')\n",
    "plt.legend(loc='center left', bbox_to_anchor=(1.0, 0.5))"
   ]
  },
  {
   "cell_type": "code",
   "execution_count": 24,
   "id": "9238835a",
   "metadata": {},
   "outputs": [],
   "source": [
    "# Exporting Orders by Hour of the Day and family Status bar chart\n",
    "Parental_profile_order_hour_day_bar.figure.savefig(('../04 Analysis/Visualizations/Parental_profile_order_hour_day_bar.png'),bbox_inches='tight')"
   ]
  },
  {
   "cell_type": "markdown",
   "id": "aef501b3",
   "metadata": {},
   "source": [
    "# Q6 Create Visualization for to show distribution of profiles"
   ]
  },
  {
   "cell_type": "code",
   "execution_count": 38,
   "id": "ef7071d2",
   "metadata": {
    "scrolled": false
   },
   "outputs": [
    {
     "data": {
      "image/png": "[encoded data removed]",
      "text/plain": [
       "<Figure size 640x480 with 1 Axes>"
      ]
     },
     "metadata": {},
     "output_type": "display_data"
    }
   ],
   "source": [
    "# Create a bar chart for Age Category\n",
    "\n",
    "age_category_bar = Instacart_all['age_category'].value_counts().plot.bar()\n",
    "plt.title('Number of Orders by age category')\n",
    "plt.show()"
   ]
  },
  {
   "cell_type": "code",
   "execution_count": 39,
   "id": "1f0ec19a",
   "metadata": {},
   "outputs": [],
   "source": [
    "# Exporting number of orders by age category bar chart\n",
    "age_category_bar.figure.savefig(('../04 Analysis/Visualizations/age_category_bar.png'),bbox_inches='tight')"
   ]
  },
  {
   "cell_type": "code",
   "execution_count": 40,
   "id": "42b90ccb",
   "metadata": {},
   "outputs": [
    {
     "data": {
      "image/png": "[encoded data removed]",
      "text/plain": [
       "<Figure size 640x480 with 1 Axes>"
      ]
     },
     "metadata": {},
     "output_type": "display_data"
    }
   ],
   "source": [
    "# Create income bar chart\n",
    "income_category_bar_chart = Instacart_all['income_category'].value_counts().plot.bar()\n",
    "plt.title('Number of Orders by Income Category')\n",
    "plt.show()"
   ]
  },
  {
   "cell_type": "code",
   "execution_count": 41,
   "id": "fd10770a",
   "metadata": {},
   "outputs": [
    {
     "data": {
      "image/png": "[encoded data removed]",
      "text/plain": [
       "<Figure size 640x480 with 1 Axes>"
      ]
     },
     "metadata": {},
     "output_type": "display_data"
    }
   ],
   "source": [
    "# Create customer_type bar chart\n",
    "\n",
    "customer_type_bar_chart = Instacart_all['customer_type'].value_counts().plot.bar()\n",
    "plt.title('Number of Orders by Type of Customer')\n",
    "plt.show()"
   ]
  },
  {
   "cell_type": "code",
   "execution_count": 25,
   "id": "9b0b5cda",
   "metadata": {},
   "outputs": [
    {
     "data": {
      "image/png": "[encoded data removed]",
      "text/plain": [
       "<Figure size 640x480 with 1 Axes>"
      ]
     },
     "metadata": {},
     "output_type": "display_data"
    }
   ],
   "source": [
    "# Create family status flag bar chart\n",
    "Parental_profile_bar_chart = Instacart_all['Parental_profile'].value_counts().plot.bar()\n",
    "plt.title('Number of Orders by Parental Profile')\n",
    "plt.show()"
   ]
  },
  {
   "cell_type": "code",
   "execution_count": 26,
   "id": "962e8db2",
   "metadata": {},
   "outputs": [],
   "source": [
    "# Exporting Number of Orders by Parental Profile bar chart\n",
    "Parental_profile_bar_chart.figure.savefig(('../04 Analysis/Visualizations/Parental_profile_bar_chart.png'),bbox_inches='tight')"
   ]
  },
  {
   "cell_type": "code",
   "execution_count": 43,
   "id": "77a2a5fc",
   "metadata": {},
   "outputs": [
    {
     "data": {
      "image/png": "[encoded data removed]",
      "text/plain": [
       "<Figure size 640x480 with 1 Axes>"
      ]
     },
     "metadata": {},
     "output_type": "display_data"
    }
   ],
   "source": [
    "# Create region bar chart\n",
    "\n",
    "region_bar_chart = Instacart_all['region'].value_counts().plot.bar()\n",
    "plt.title('Number of Orders by Region')\n",
    "plt.show()"
   ]
  },
  {
   "cell_type": "code",
   "execution_count": 44,
   "id": "ffad1dc4",
   "metadata": {},
   "outputs": [],
   "source": [
    "# Exporting bar charts\n",
    "income_category_bar_chart.figure.savefig(('../04 Analysis/Visualizations/income_category_bar_chart.png'),bbox_inches='tight')\n",
    "customer_type_bar_chart.figure.savefig(('../04 Analysis/Visualizations/customer_type_bar_chart.png'),bbox_inches='tight')\n",
    "region_bar_chart.figure.savefig(('../04 Analysis/Visualizations/region_bar_chart.png'),bbox_inches='tight')"
   ]
  },
  {
   "cell_type": "markdown",
   "id": "d142ac52",
   "metadata": {},
   "source": [
    "# Q7.  Aggregate the max, mean, and min variables on a customer-profile level for usage frequency and expenditure"
   ]
  },
  {
   "cell_type": "code",
   "execution_count": 45,
   "id": "ac98f420",
   "metadata": {},
   "outputs": [],
   "source": [
    "# Aggregate Age Category\n",
    "crosstab_age_category = Instacart_all.groupby('age_category').agg({'order_id':['count'],'days_since_last_order':['min', 'mean', 'max'], 'prices':['min', 'mean', 'max']})"
   ]
  },
  {
   "cell_type": "code",
   "execution_count": 46,
   "id": "cd44e216",
   "metadata": {},
   "outputs": [
    {
     "data": {
      "text/html": [
       "<div>\n",
       "<style scoped>\n",
       "    .dataframe tbody tr th:only-of-type {\n",
       "        vertical-align: middle;\n",
       "    }\n",
       "\n",
       "    .dataframe tbody tr th {\n",
       "        vertical-align: top;\n",
       "    }\n",
       "\n",
       "    .dataframe thead tr th {\n",
       "        text-align: left;\n",
       "    }\n",
       "\n",
       "    .dataframe thead tr:last-of-type th {\n",
       "        text-align: right;\n",
       "    }\n",
       "</style>\n",
       "<table border=\"1\" class=\"dataframe\">\n",
       "  <thead>\n",
       "    <tr>\n",
       "      <th></th>\n",
       "      <th>order_id</th>\n",
       "      <th colspan=\"3\" halign=\"left\">days_since_last_order</th>\n",
       "      <th colspan=\"3\" halign=\"left\">prices</th>\n",
       "    </tr>\n",
       "    <tr>\n",
       "      <th></th>\n",
       "      <th>count</th>\n",
       "      <th>min</th>\n",
       "      <th>mean</th>\n",
       "      <th>max</th>\n",
       "      <th>min</th>\n",
       "      <th>mean</th>\n",
       "      <th>max</th>\n",
       "    </tr>\n",
       "    <tr>\n",
       "      <th>age_category</th>\n",
       "      <th></th>\n",
       "      <th></th>\n",
       "      <th></th>\n",
       "      <th></th>\n",
       "      <th></th>\n",
       "      <th></th>\n",
       "      <th></th>\n",
       "    </tr>\n",
       "  </thead>\n",
       "  <tbody>\n",
       "    <tr>\n",
       "      <th>middle_aged_adult</th>\n",
       "      <td>9724950</td>\n",
       "      <td>0.0</td>\n",
       "      <td>10.819702</td>\n",
       "      <td>30.0</td>\n",
       "      <td>1.0</td>\n",
       "      <td>7.791641</td>\n",
       "      <td>25.0</td>\n",
       "    </tr>\n",
       "    <tr>\n",
       "      <th>old_adult</th>\n",
       "      <td>10574504</td>\n",
       "      <td>0.0</td>\n",
       "      <td>10.800664</td>\n",
       "      <td>30.0</td>\n",
       "      <td>1.0</td>\n",
       "      <td>7.795446</td>\n",
       "      <td>25.0</td>\n",
       "    </tr>\n",
       "    <tr>\n",
       "      <th>young_adult</th>\n",
       "      <td>10665110</td>\n",
       "      <td>0.0</td>\n",
       "      <td>10.811278</td>\n",
       "      <td>30.0</td>\n",
       "      <td>1.0</td>\n",
       "      <td>7.784818</td>\n",
       "      <td>25.0</td>\n",
       "    </tr>\n",
       "  </tbody>\n",
       "</table>\n",
       "</div>"
      ],
      "text/plain": [
       "                   order_id days_since_last_order                  prices  \\\n",
       "                      count                   min       mean   max    min   \n",
       "age_category                                                                \n",
       "middle_aged_adult   9724950                   0.0  10.819702  30.0    1.0   \n",
       "old_adult          10574504                   0.0  10.800664  30.0    1.0   \n",
       "young_adult        10665110                   0.0  10.811278  30.0    1.0   \n",
       "\n",
       "                                   \n",
       "                       mean   max  \n",
       "age_category                       \n",
       "middle_aged_adult  7.791641  25.0  \n",
       "old_adult          7.795446  25.0  \n",
       "young_adult        7.784818  25.0  "
      ]
     },
     "execution_count": 46,
     "metadata": {},
     "output_type": "execute_result"
    }
   ],
   "source": [
    "crosstab_age_category"
   ]
  },
  {
   "cell_type": "code",
   "execution_count": 47,
   "id": "198c94f6",
   "metadata": {},
   "outputs": [],
   "source": [
    "crosstab_age_category.to_clipboard()"
   ]
  },
  {
   "cell_type": "code",
   "execution_count": 48,
   "id": "1379644c",
   "metadata": {},
   "outputs": [],
   "source": [
    "# Aggregate Income Category\n",
    "crosstab_income_category = Instacart_all.groupby('income_category').agg({'order_id':['count'],'days_since_last_order':['min', 'mean', 'max'], 'prices':['min', 'mean', 'max']})"
   ]
  },
  {
   "cell_type": "code",
   "execution_count": 49,
   "id": "2b918e42",
   "metadata": {},
   "outputs": [
    {
     "data": {
      "text/html": [
       "<div>\n",
       "<style scoped>\n",
       "    .dataframe tbody tr th:only-of-type {\n",
       "        vertical-align: middle;\n",
       "    }\n",
       "\n",
       "    .dataframe tbody tr th {\n",
       "        vertical-align: top;\n",
       "    }\n",
       "\n",
       "    .dataframe thead tr th {\n",
       "        text-align: left;\n",
       "    }\n",
       "\n",
       "    .dataframe thead tr:last-of-type th {\n",
       "        text-align: right;\n",
       "    }\n",
       "</style>\n",
       "<table border=\"1\" class=\"dataframe\">\n",
       "  <thead>\n",
       "    <tr>\n",
       "      <th></th>\n",
       "      <th>order_id</th>\n",
       "      <th colspan=\"3\" halign=\"left\">days_since_last_order</th>\n",
       "      <th colspan=\"3\" halign=\"left\">prices</th>\n",
       "    </tr>\n",
       "    <tr>\n",
       "      <th></th>\n",
       "      <th>count</th>\n",
       "      <th>min</th>\n",
       "      <th>mean</th>\n",
       "      <th>max</th>\n",
       "      <th>min</th>\n",
       "      <th>mean</th>\n",
       "      <th>max</th>\n",
       "    </tr>\n",
       "    <tr>\n",
       "      <th>income_category</th>\n",
       "      <th></th>\n",
       "      <th></th>\n",
       "      <th></th>\n",
       "      <th></th>\n",
       "      <th></th>\n",
       "      <th></th>\n",
       "      <th></th>\n",
       "    </tr>\n",
       "  </thead>\n",
       "  <tbody>\n",
       "    <tr>\n",
       "      <th>High-income</th>\n",
       "      <td>3894534</td>\n",
       "      <td>0.0</td>\n",
       "      <td>10.684293</td>\n",
       "      <td>30.0</td>\n",
       "      <td>1.0</td>\n",
       "      <td>7.940855</td>\n",
       "      <td>25.0</td>\n",
       "    </tr>\n",
       "    <tr>\n",
       "      <th>Low-income</th>\n",
       "      <td>8520533</td>\n",
       "      <td>0.0</td>\n",
       "      <td>10.935595</td>\n",
       "      <td>30.0</td>\n",
       "      <td>1.0</td>\n",
       "      <td>7.358224</td>\n",
       "      <td>25.0</td>\n",
       "    </tr>\n",
       "    <tr>\n",
       "      <th>Middle-income</th>\n",
       "      <td>18549497</td>\n",
       "      <td>0.0</td>\n",
       "      <td>10.779326</td>\n",
       "      <td>30.0</td>\n",
       "      <td>1.0</td>\n",
       "      <td>7.957685</td>\n",
       "      <td>25.0</td>\n",
       "    </tr>\n",
       "  </tbody>\n",
       "</table>\n",
       "</div>"
      ],
      "text/plain": [
       "                 order_id days_since_last_order                  prices  \\\n",
       "                    count                   min       mean   max    min   \n",
       "income_category                                                           \n",
       "High-income       3894534                   0.0  10.684293  30.0    1.0   \n",
       "Low-income        8520533                   0.0  10.935595  30.0    1.0   \n",
       "Middle-income    18549497                   0.0  10.779326  30.0    1.0   \n",
       "\n",
       "                                 \n",
       "                     mean   max  \n",
       "income_category                  \n",
       "High-income      7.940855  25.0  \n",
       "Low-income       7.358224  25.0  \n",
       "Middle-income    7.957685  25.0  "
      ]
     },
     "execution_count": 49,
     "metadata": {},
     "output_type": "execute_result"
    }
   ],
   "source": [
    "crosstab_income_category"
   ]
  },
  {
   "cell_type": "code",
   "execution_count": 50,
   "id": "0235639d",
   "metadata": {},
   "outputs": [],
   "source": [
    "crosstab_income_category.to_clipboard()"
   ]
  },
  {
   "cell_type": "code",
   "execution_count": 51,
   "id": "9c2bb460",
   "metadata": {},
   "outputs": [],
   "source": [
    "# Aggregate customer type\n",
    "crosstab_customer_type = Instacart_all.groupby('customer_type').agg({'order_id':['count'],'days_since_last_order':['min', 'mean', 'max'], 'prices':['min', 'mean', 'max']})"
   ]
  },
  {
   "cell_type": "code",
   "execution_count": 52,
   "id": "3d26b071",
   "metadata": {},
   "outputs": [
    {
     "data": {
      "text/html": [
       "<div>\n",
       "<style scoped>\n",
       "    .dataframe tbody tr th:only-of-type {\n",
       "        vertical-align: middle;\n",
       "    }\n",
       "\n",
       "    .dataframe tbody tr th {\n",
       "        vertical-align: top;\n",
       "    }\n",
       "\n",
       "    .dataframe thead tr th {\n",
       "        text-align: left;\n",
       "    }\n",
       "\n",
       "    .dataframe thead tr:last-of-type th {\n",
       "        text-align: right;\n",
       "    }\n",
       "</style>\n",
       "<table border=\"1\" class=\"dataframe\">\n",
       "  <thead>\n",
       "    <tr>\n",
       "      <th></th>\n",
       "      <th>order_id</th>\n",
       "      <th colspan=\"3\" halign=\"left\">days_since_last_order</th>\n",
       "      <th colspan=\"3\" halign=\"left\">prices</th>\n",
       "    </tr>\n",
       "    <tr>\n",
       "      <th></th>\n",
       "      <th>count</th>\n",
       "      <th>min</th>\n",
       "      <th>mean</th>\n",
       "      <th>max</th>\n",
       "      <th>min</th>\n",
       "      <th>mean</th>\n",
       "      <th>max</th>\n",
       "    </tr>\n",
       "    <tr>\n",
       "      <th>customer_type</th>\n",
       "      <th></th>\n",
       "      <th></th>\n",
       "      <th></th>\n",
       "      <th></th>\n",
       "      <th></th>\n",
       "      <th></th>\n",
       "      <th></th>\n",
       "    </tr>\n",
       "  </thead>\n",
       "  <tbody>\n",
       "    <tr>\n",
       "      <th>non_vageterian</th>\n",
       "      <td>23065332</td>\n",
       "      <td>0.0</td>\n",
       "      <td>10.56197</td>\n",
       "      <td>30.0</td>\n",
       "      <td>1.0</td>\n",
       "      <td>7.901311</td>\n",
       "      <td>25.0</td>\n",
       "    </tr>\n",
       "    <tr>\n",
       "      <th>vageterian</th>\n",
       "      <td>7899232</td>\n",
       "      <td>0.0</td>\n",
       "      <td>11.54690</td>\n",
       "      <td>30.0</td>\n",
       "      <td>1.0</td>\n",
       "      <td>7.467293</td>\n",
       "      <td>20.0</td>\n",
       "    </tr>\n",
       "  </tbody>\n",
       "</table>\n",
       "</div>"
      ],
      "text/plain": [
       "                order_id days_since_last_order                 prices  \\\n",
       "                   count                   min      mean   max    min   \n",
       "customer_type                                                           \n",
       "non_vageterian  23065332                   0.0  10.56197  30.0    1.0   \n",
       "vageterian       7899232                   0.0  11.54690  30.0    1.0   \n",
       "\n",
       "                                \n",
       "                    mean   max  \n",
       "customer_type                   \n",
       "non_vageterian  7.901311  25.0  \n",
       "vageterian      7.467293  20.0  "
      ]
     },
     "execution_count": 52,
     "metadata": {},
     "output_type": "execute_result"
    }
   ],
   "source": [
    "crosstab_customer_type"
   ]
  },
  {
   "cell_type": "code",
   "execution_count": 53,
   "id": "aa2b9b3e",
   "metadata": {},
   "outputs": [],
   "source": [
    "crosstab_customer_type.to_clipboard()"
   ]
  },
  {
   "cell_type": "code",
   "execution_count": 54,
   "id": "6145030a",
   "metadata": {},
   "outputs": [],
   "source": [
    "# Aggregate family status flag\n",
    "crosstab_family_stuts_flag = Instacart_all.groupby('family_status_flag').agg({'order_id':['count'],'days_since_last_order':['min', 'mean', 'max'], 'prices':['min', 'mean', 'max']})"
   ]
  },
  {
   "cell_type": "code",
   "execution_count": 55,
   "id": "3677850c",
   "metadata": {},
   "outputs": [
    {
     "data": {
      "text/html": [
       "<div>\n",
       "<style scoped>\n",
       "    .dataframe tbody tr th:only-of-type {\n",
       "        vertical-align: middle;\n",
       "    }\n",
       "\n",
       "    .dataframe tbody tr th {\n",
       "        vertical-align: top;\n",
       "    }\n",
       "\n",
       "    .dataframe thead tr th {\n",
       "        text-align: left;\n",
       "    }\n",
       "\n",
       "    .dataframe thead tr:last-of-type th {\n",
       "        text-align: right;\n",
       "    }\n",
       "</style>\n",
       "<table border=\"1\" class=\"dataframe\">\n",
       "  <thead>\n",
       "    <tr>\n",
       "      <th></th>\n",
       "      <th>order_id</th>\n",
       "      <th colspan=\"3\" halign=\"left\">days_since_last_order</th>\n",
       "      <th colspan=\"3\" halign=\"left\">prices</th>\n",
       "    </tr>\n",
       "    <tr>\n",
       "      <th></th>\n",
       "      <th>count</th>\n",
       "      <th>min</th>\n",
       "      <th>mean</th>\n",
       "      <th>max</th>\n",
       "      <th>min</th>\n",
       "      <th>mean</th>\n",
       "      <th>max</th>\n",
       "    </tr>\n",
       "    <tr>\n",
       "      <th>family_status_flag</th>\n",
       "      <th></th>\n",
       "      <th></th>\n",
       "      <th></th>\n",
       "      <th></th>\n",
       "      <th></th>\n",
       "      <th></th>\n",
       "      <th></th>\n",
       "    </tr>\n",
       "  </thead>\n",
       "  <tbody>\n",
       "    <tr>\n",
       "      <th>Married WITH Dependants</th>\n",
       "      <td>21743711</td>\n",
       "      <td>0.0</td>\n",
       "      <td>10.820875</td>\n",
       "      <td>30.0</td>\n",
       "      <td>1.0</td>\n",
       "      <td>7.790278</td>\n",
       "      <td>25.0</td>\n",
       "    </tr>\n",
       "    <tr>\n",
       "      <th>Single WITH Dependants</th>\n",
       "      <td>1481172</td>\n",
       "      <td>0.0</td>\n",
       "      <td>10.750995</td>\n",
       "      <td>30.0</td>\n",
       "      <td>1.0</td>\n",
       "      <td>7.800604</td>\n",
       "      <td>25.0</td>\n",
       "    </tr>\n",
       "    <tr>\n",
       "      <th>Single with no dependants</th>\n",
       "      <td>7739681</td>\n",
       "      <td>0.0</td>\n",
       "      <td>10.791950</td>\n",
       "      <td>30.0</td>\n",
       "      <td>1.0</td>\n",
       "      <td>7.789550</td>\n",
       "      <td>25.0</td>\n",
       "    </tr>\n",
       "  </tbody>\n",
       "</table>\n",
       "</div>"
      ],
      "text/plain": [
       "                           order_id days_since_last_order                   \\\n",
       "                              count                   min       mean   max   \n",
       "family_status_flag                                                           \n",
       "Married WITH Dependants    21743711                   0.0  10.820875  30.0   \n",
       "Single WITH Dependants      1481172                   0.0  10.750995  30.0   \n",
       "Single with no dependants   7739681                   0.0  10.791950  30.0   \n",
       "\n",
       "                          prices                  \n",
       "                             min      mean   max  \n",
       "family_status_flag                                \n",
       "Married WITH Dependants      1.0  7.790278  25.0  \n",
       "Single WITH Dependants       1.0  7.800604  25.0  \n",
       "Single with no dependants    1.0  7.789550  25.0  "
      ]
     },
     "execution_count": 55,
     "metadata": {},
     "output_type": "execute_result"
    }
   ],
   "source": [
    "crosstab_family_stuts_flag"
   ]
  },
  {
   "cell_type": "code",
   "execution_count": 56,
   "id": "6062abbc",
   "metadata": {},
   "outputs": [],
   "source": [
    "crosstab_family_stuts_flag.to_clipboard()"
   ]
  },
  {
   "cell_type": "code",
   "execution_count": 57,
   "id": "4f40169b",
   "metadata": {},
   "outputs": [],
   "source": [
    "# Aggregate region\n",
    "crosstab_region = Instacart_all.groupby('region').agg({'order_id':['count'],'days_since_last_order':['min', 'mean', 'max'], 'prices':['min', 'mean', 'max']})"
   ]
  },
  {
   "cell_type": "code",
   "execution_count": 58,
   "id": "37fef63c",
   "metadata": {},
   "outputs": [
    {
     "data": {
      "text/html": [
       "<div>\n",
       "<style scoped>\n",
       "    .dataframe tbody tr th:only-of-type {\n",
       "        vertical-align: middle;\n",
       "    }\n",
       "\n",
       "    .dataframe tbody tr th {\n",
       "        vertical-align: top;\n",
       "    }\n",
       "\n",
       "    .dataframe thead tr th {\n",
       "        text-align: left;\n",
       "    }\n",
       "\n",
       "    .dataframe thead tr:last-of-type th {\n",
       "        text-align: right;\n",
       "    }\n",
       "</style>\n",
       "<table border=\"1\" class=\"dataframe\">\n",
       "  <thead>\n",
       "    <tr>\n",
       "      <th></th>\n",
       "      <th>order_id</th>\n",
       "      <th colspan=\"3\" halign=\"left\">days_since_last_order</th>\n",
       "      <th colspan=\"3\" halign=\"left\">prices</th>\n",
       "    </tr>\n",
       "    <tr>\n",
       "      <th></th>\n",
       "      <th>count</th>\n",
       "      <th>min</th>\n",
       "      <th>mean</th>\n",
       "      <th>max</th>\n",
       "      <th>min</th>\n",
       "      <th>mean</th>\n",
       "      <th>max</th>\n",
       "    </tr>\n",
       "    <tr>\n",
       "      <th>region</th>\n",
       "      <th></th>\n",
       "      <th></th>\n",
       "      <th></th>\n",
       "      <th></th>\n",
       "      <th></th>\n",
       "      <th></th>\n",
       "      <th></th>\n",
       "    </tr>\n",
       "  </thead>\n",
       "  <tbody>\n",
       "    <tr>\n",
       "      <th>Midwest</th>\n",
       "      <td>7261513</td>\n",
       "      <td>0.0</td>\n",
       "      <td>10.892735</td>\n",
       "      <td>30.0</td>\n",
       "      <td>1.0</td>\n",
       "      <td>7.792318</td>\n",
       "      <td>25.0</td>\n",
       "    </tr>\n",
       "    <tr>\n",
       "      <th>Northeast</th>\n",
       "      <td>5464685</td>\n",
       "      <td>0.0</td>\n",
       "      <td>10.774220</td>\n",
       "      <td>30.0</td>\n",
       "      <td>1.0</td>\n",
       "      <td>7.781441</td>\n",
       "      <td>25.0</td>\n",
       "    </tr>\n",
       "    <tr>\n",
       "      <th>South</th>\n",
       "      <td>10311139</td>\n",
       "      <td>0.0</td>\n",
       "      <td>10.814227</td>\n",
       "      <td>30.0</td>\n",
       "      <td>1.0</td>\n",
       "      <td>7.794439</td>\n",
       "      <td>25.0</td>\n",
       "    </tr>\n",
       "    <tr>\n",
       "      <th>West</th>\n",
       "      <td>7927227</td>\n",
       "      <td>0.0</td>\n",
       "      <td>10.754622</td>\n",
       "      <td>30.0</td>\n",
       "      <td>1.0</td>\n",
       "      <td>7.790308</td>\n",
       "      <td>25.0</td>\n",
       "    </tr>\n",
       "  </tbody>\n",
       "</table>\n",
       "</div>"
      ],
      "text/plain": [
       "           order_id days_since_last_order                  prices            \\\n",
       "              count                   min       mean   max    min      mean   \n",
       "region                                                                        \n",
       "Midwest     7261513                   0.0  10.892735  30.0    1.0  7.792318   \n",
       "Northeast   5464685                   0.0  10.774220  30.0    1.0  7.781441   \n",
       "South      10311139                   0.0  10.814227  30.0    1.0  7.794439   \n",
       "West        7927227                   0.0  10.754622  30.0    1.0  7.790308   \n",
       "\n",
       "                 \n",
       "            max  \n",
       "region           \n",
       "Midwest    25.0  \n",
       "Northeast  25.0  \n",
       "South      25.0  \n",
       "West       25.0  "
      ]
     },
     "execution_count": 58,
     "metadata": {},
     "output_type": "execute_result"
    }
   ],
   "source": [
    "crosstab_region"
   ]
  },
  {
   "cell_type": "code",
   "execution_count": 59,
   "id": "8742266f",
   "metadata": {},
   "outputs": [],
   "source": [
    "crosstab_region.to_clipboard()"
   ]
  },
  {
   "cell_type": "markdown",
   "id": "84088ac2",
   "metadata": {},
   "source": [
    "# Q8. Compare custormer profiles with regios and departments"
   ]
  },
  {
   "cell_type": "code",
   "execution_count": 60,
   "id": "47f4c3a1",
   "metadata": {},
   "outputs": [],
   "source": [
    "# Check customer profile loyalty with Region\n",
    "\n",
    "region_loyalty = pd.crosstab(Instacart_all['loyalty_flag'],Instacart_all['region'],dropna=False)"
   ]
  },
  {
   "cell_type": "code",
   "execution_count": 61,
   "id": "012ee260",
   "metadata": {},
   "outputs": [],
   "source": [
    "region_loyalty = region_loyalty.sort_values(by=['South'], ascending=True)"
   ]
  },
  {
   "cell_type": "code",
   "execution_count": 62,
   "id": "d7395f9f",
   "metadata": {},
   "outputs": [],
   "source": [
    "# Check customer profile with Region and department\n",
    "region_departments = pd.crosstab(Instacart_all['department'],Instacart_all['region'],dropna=False)"
   ]
  },
  {
   "cell_type": "code",
   "execution_count": 63,
   "id": "aaa15e10",
   "metadata": {},
   "outputs": [],
   "source": [
    "region_departments=region_departments.sort_values(by=['South'], ascending=True)"
   ]
  },
  {
   "cell_type": "code",
   "execution_count": 64,
   "id": "56c43eee",
   "metadata": {},
   "outputs": [],
   "source": [
    "# Check customer profile with Region/vageterian\n",
    "\n",
    "region_customer_type = pd.crosstab(Instacart_all['region'],Instacart_all['customer_type'],dropna=False)"
   ]
  },
  {
   "cell_type": "markdown",
   "id": "41828a25",
   "metadata": {},
   "source": [
    "# Q9. Create suitable charts for Q8"
   ]
  },
  {
   "cell_type": "code",
   "execution_count": 65,
   "id": "1f81a957",
   "metadata": {},
   "outputs": [
    {
     "data": {
      "text/plain": [
       "<matplotlib.legend.Legend at 0x268f538bfd0>"
      ]
     },
     "execution_count": 65,
     "metadata": {},
     "output_type": "execute_result"
    },
    {
     "data": {
      "image/png": "[encoded data removed]",
      "text/plain": [
       "<Figure size 640x480 with 1 Axes>"
      ]
     },
     "metadata": {},
     "output_type": "display_data"
    }
   ],
   "source": [
    "# Create loyal customer by region bar chart\n",
    "region_loyalty_bar = region_loyalty.plot.bar()\n",
    "plt.title('Orders by Customer loyalty and Region')\n",
    "plt.legend(loc='center left', bbox_to_anchor=(1.0, 0.5))"
   ]
  },
  {
   "cell_type": "code",
   "execution_count": 66,
   "id": "9fe25f03",
   "metadata": {},
   "outputs": [
    {
     "data": {
      "image/png": "[encoded data removed]",
      "text/plain": [
       "<Figure size 640x480 with 1 Axes>"
      ]
     },
     "metadata": {},
     "output_type": "display_data"
    }
   ],
   "source": [
    "# Create department orders by region bar chart\n",
    "region_departments_bar = region_departments.plot.bar(stacked = True)\n",
    "plt.title('Number of Orders by Region and Department')\n",
    "plt.show()"
   ]
  },
  {
   "cell_type": "code",
   "execution_count": 67,
   "id": "9be5fde3",
   "metadata": {},
   "outputs": [
    {
     "data": {
      "text/plain": [
       "<matplotlib.legend.Legend at 0x268a0ff6410>"
      ]
     },
     "execution_count": 67,
     "metadata": {},
     "output_type": "execute_result"
    },
    {
     "data": {
      "image/png": "[encoded data removed]",
      "text/plain": [
       "<Figure size 640x480 with 1 Axes>"
      ]
     },
     "metadata": {},
     "output_type": "display_data"
    }
   ],
   "source": [
    "# Create customer type by region bar chart\n",
    "region_customer_type_bar = region_customer_type.plot.bar()\n",
    "plt.title('Orders by Type of Customer and Region')\n",
    "plt.legend(loc='center left', bbox_to_anchor=(1.0, 0.5))"
   ]
  },
  {
   "cell_type": "code",
   "execution_count": 68,
   "id": "bb422cd2",
   "metadata": {},
   "outputs": [],
   "source": [
    "# Exporting bar charts\n",
    "region_loyalty_bar.figure.savefig(('../04 Analysis/Visualizations/region_loyalty_bar.png'),bbox_inches='tight')\n",
    "region_departments_bar.figure.savefig(('../04 Analysis/Visualizations/region_departments_bar.png'),bbox_inches='tight')\n",
    "region_customer_type_bar.figure.savefig(('../04 Analysis/Visualizations/region_customer_type_bar.png'),bbox_inches='tight')"
   ]
  },
  {
   "cell_type": "code",
   "execution_count": 29,
   "id": "ebac1e80",
   "metadata": {},
   "outputs": [],
   "source": [
    "# Exporting Instacart_all dataframe\n",
    "Instacart_all.to_pickle('../02 Data/Prepared Data/orders_products_all.pkl')"
   ]
  },
  {
   "cell_type": "code",
   "execution_count": 27,
   "id": "4b1a2d8a",
   "metadata": {},
   "outputs": [
    {
     "data": {
      "text/plain": [
       "(30964564, 39)"
      ]
     },
     "execution_count": 27,
     "metadata": {},
     "output_type": "execute_result"
    }
   ],
   "source": [
    "Instacart_all.shape"
   ]
  },
  {
   "cell_type": "code",
   "execution_count": 28,
   "id": "24ee2516",
   "metadata": {},
   "outputs": [
    {
     "data": {
      "text/html": [
       "<div>\n",
       "<style scoped>\n",
       "    .dataframe tbody tr th:only-of-type {\n",
       "        vertical-align: middle;\n",
       "    }\n",
       "\n",
       "    .dataframe tbody tr th {\n",
       "        vertical-align: top;\n",
       "    }\n",
       "\n",
       "    .dataframe thead th {\n",
       "        text-align: right;\n",
       "    }\n",
       "</style>\n",
       "<table border=\"1\" class=\"dataframe\">\n",
       "  <thead>\n",
       "    <tr style=\"text-align: right;\">\n",
       "      <th></th>\n",
       "      <th>user_id</th>\n",
       "      <th>gender</th>\n",
       "      <th>state</th>\n",
       "      <th>age</th>\n",
       "      <th>date_joined</th>\n",
       "      <th>number_of_dependants</th>\n",
       "      <th>family_status</th>\n",
       "      <th>income</th>\n",
       "      <th>order_id</th>\n",
       "      <th>order_number</th>\n",
       "      <th>...</th>\n",
       "      <th>median_days</th>\n",
       "      <th>order_frequency_flag</th>\n",
       "      <th>region</th>\n",
       "      <th>customer_activity</th>\n",
       "      <th>age_category</th>\n",
       "      <th>income_category</th>\n",
       "      <th>department</th>\n",
       "      <th>_merge</th>\n",
       "      <th>customer_type</th>\n",
       "      <th>Parental_profile</th>\n",
       "    </tr>\n",
       "  </thead>\n",
       "  <tbody>\n",
       "    <tr>\n",
       "      <th>0</th>\n",
       "      <td>26711</td>\n",
       "      <td>Female</td>\n",
       "      <td>Missouri</td>\n",
       "      <td>48</td>\n",
       "      <td>1/1/2017</td>\n",
       "      <td>3</td>\n",
       "      <td>married</td>\n",
       "      <td>165665</td>\n",
       "      <td>2543867</td>\n",
       "      <td>5</td>\n",
       "      <td>...</td>\n",
       "      <td>19.0</td>\n",
       "      <td>Regular customer</td>\n",
       "      <td>Midwest</td>\n",
       "      <td>High_activity_customer</td>\n",
       "      <td>middle_aged_adult</td>\n",
       "      <td>High-income</td>\n",
       "      <td>beverages</td>\n",
       "      <td>both</td>\n",
       "      <td>vageterian</td>\n",
       "      <td>Middle aged parent</td>\n",
       "    </tr>\n",
       "    <tr>\n",
       "      <th>1</th>\n",
       "      <td>26711</td>\n",
       "      <td>Female</td>\n",
       "      <td>Missouri</td>\n",
       "      <td>48</td>\n",
       "      <td>1/1/2017</td>\n",
       "      <td>3</td>\n",
       "      <td>married</td>\n",
       "      <td>165665</td>\n",
       "      <td>1285508</td>\n",
       "      <td>7</td>\n",
       "      <td>...</td>\n",
       "      <td>19.0</td>\n",
       "      <td>Regular customer</td>\n",
       "      <td>Midwest</td>\n",
       "      <td>High_activity_customer</td>\n",
       "      <td>middle_aged_adult</td>\n",
       "      <td>High-income</td>\n",
       "      <td>beverages</td>\n",
       "      <td>both</td>\n",
       "      <td>vageterian</td>\n",
       "      <td>Middle aged parent</td>\n",
       "    </tr>\n",
       "    <tr>\n",
       "      <th>2</th>\n",
       "      <td>26711</td>\n",
       "      <td>Female</td>\n",
       "      <td>Missouri</td>\n",
       "      <td>48</td>\n",
       "      <td>1/1/2017</td>\n",
       "      <td>3</td>\n",
       "      <td>married</td>\n",
       "      <td>165665</td>\n",
       "      <td>2578584</td>\n",
       "      <td>8</td>\n",
       "      <td>...</td>\n",
       "      <td>19.0</td>\n",
       "      <td>Regular customer</td>\n",
       "      <td>Midwest</td>\n",
       "      <td>High_activity_customer</td>\n",
       "      <td>middle_aged_adult</td>\n",
       "      <td>High-income</td>\n",
       "      <td>beverages</td>\n",
       "      <td>both</td>\n",
       "      <td>vageterian</td>\n",
       "      <td>Middle aged parent</td>\n",
       "    </tr>\n",
       "    <tr>\n",
       "      <th>3</th>\n",
       "      <td>33890</td>\n",
       "      <td>Female</td>\n",
       "      <td>New Mexico</td>\n",
       "      <td>36</td>\n",
       "      <td>1/1/2017</td>\n",
       "      <td>0</td>\n",
       "      <td>single</td>\n",
       "      <td>59285</td>\n",
       "      <td>1044841</td>\n",
       "      <td>3</td>\n",
       "      <td>...</td>\n",
       "      <td>26.0</td>\n",
       "      <td>Non-frequent customer</td>\n",
       "      <td>West</td>\n",
       "      <td>High_activity_customer</td>\n",
       "      <td>young_adult</td>\n",
       "      <td>Low-income</td>\n",
       "      <td>beverages</td>\n",
       "      <td>both</td>\n",
       "      <td>non_vageterian</td>\n",
       "      <td>Young Adult</td>\n",
       "    </tr>\n",
       "    <tr>\n",
       "      <th>4</th>\n",
       "      <td>33890</td>\n",
       "      <td>Female</td>\n",
       "      <td>New Mexico</td>\n",
       "      <td>36</td>\n",
       "      <td>1/1/2017</td>\n",
       "      <td>0</td>\n",
       "      <td>single</td>\n",
       "      <td>59285</td>\n",
       "      <td>474720</td>\n",
       "      <td>4</td>\n",
       "      <td>...</td>\n",
       "      <td>26.0</td>\n",
       "      <td>Non-frequent customer</td>\n",
       "      <td>West</td>\n",
       "      <td>High_activity_customer</td>\n",
       "      <td>young_adult</td>\n",
       "      <td>Low-income</td>\n",
       "      <td>beverages</td>\n",
       "      <td>both</td>\n",
       "      <td>non_vageterian</td>\n",
       "      <td>Young Adult</td>\n",
       "    </tr>\n",
       "  </tbody>\n",
       "</table>\n",
       "<p>5 rows × 39 columns</p>\n",
       "</div>"
      ],
      "text/plain": [
       "   user_id  gender       state  age date_joined  number_of_dependants  \\\n",
       "0    26711  Female    Missouri   48    1/1/2017                     3   \n",
       "1    26711  Female    Missouri   48    1/1/2017                     3   \n",
       "2    26711  Female    Missouri   48    1/1/2017                     3   \n",
       "3    33890  Female  New Mexico   36    1/1/2017                     0   \n",
       "4    33890  Female  New Mexico   36    1/1/2017                     0   \n",
       "\n",
       "  family_status  income  order_id  order_number  ...  median_days  \\\n",
       "0       married  165665   2543867             5  ...         19.0   \n",
       "1       married  165665   1285508             7  ...         19.0   \n",
       "2       married  165665   2578584             8  ...         19.0   \n",
       "3        single   59285   1044841             3  ...         26.0   \n",
       "4        single   59285    474720             4  ...         26.0   \n",
       "\n",
       "    order_frequency_flag   region       customer_activity       age_category  \\\n",
       "0       Regular customer  Midwest  High_activity_customer  middle_aged_adult   \n",
       "1       Regular customer  Midwest  High_activity_customer  middle_aged_adult   \n",
       "2       Regular customer  Midwest  High_activity_customer  middle_aged_adult   \n",
       "3  Non-frequent customer     West  High_activity_customer        young_adult   \n",
       "4  Non-frequent customer     West  High_activity_customer        young_adult   \n",
       "\n",
       "   income_category  department _merge   customer_type    Parental_profile  \n",
       "0      High-income   beverages   both      vageterian  Middle aged parent  \n",
       "1      High-income   beverages   both      vageterian  Middle aged parent  \n",
       "2      High-income   beverages   both      vageterian  Middle aged parent  \n",
       "3       Low-income   beverages   both  non_vageterian         Young Adult  \n",
       "4       Low-income   beverages   both  non_vageterian         Young Adult  \n",
       "\n",
       "[5 rows x 39 columns]"
      ]
     },
     "execution_count": 28,
     "metadata": {},
     "output_type": "execute_result"
    }
   ],
   "source": [
    "Instacart_all.head()"
   ]
  }
 ],
 "metadata": {
  "kernelspec": {
   "display_name": "Python 3 (ipykernel)",
   "language": "python",
   "name": "python3"
  },
  "language_info": {
   "codemirror_mode": {
    "name": "ipython",
    "version": 3
   },
   "file_extension": ".py",
   "mimetype": "text/x-python",
   "name": "python",
   "nbconvert_exporter": "python",
   "pygments_lexer": "ipython3",
   "version": "3.11.3"
  }
 },
 "nbformat": 4,
 "nbformat_minor": 5
}
