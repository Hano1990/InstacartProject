{
 "cells": [
  {
   "cell_type": "markdown",
   "id": "5528a9d4",
   "metadata": {},
   "source": [
    "# Table of Contents\n",
    "## 01. Importing Libraries\n",
    "## 02. Data types"
   ]
  },
  {
   "cell_type": "markdown",
   "id": "5a3c8a50",
   "metadata": {},
   "source": [
    "# 01. Importing libraries"
   ]
  },
  {
   "cell_type": "code",
   "execution_count": 1,
   "id": "f0ddf8d8",
   "metadata": {},
   "outputs": [],
   "source": [
    "# Import libraries\n",
    "import pandas as pd\n",
    "import numpy as np\n",
    "import os"
   ]
  },
  {
   "cell_type": "markdown",
   "id": "1affd45c",
   "metadata": {},
   "source": [
    "# 02. Data types"
   ]
  },
  {
   "cell_type": "code",
   "execution_count": 8,
   "id": "913d3781",
   "metadata": {},
   "outputs": [
    {
     "data": {
      "text/plain": [
       "100"
      ]
     },
     "execution_count": 8,
     "metadata": {},
     "output_type": "execute_result"
    }
   ],
   "source": [
    "150-50"
   ]
  },
  {
   "cell_type": "code",
   "execution_count": 9,
   "id": "b1f8187e",
   "metadata": {},
   "outputs": [
    {
     "data": {
      "text/plain": [
       "100"
      ]
     },
     "execution_count": 9,
     "metadata": {},
     "output_type": "execute_result"
    }
   ],
   "source": [
    "50+50"
   ]
  },
  {
   "cell_type": "code",
   "execution_count": 6,
   "id": "d6dd3314",
   "metadata": {},
   "outputs": [
    {
     "data": {
      "text/plain": [
       "100"
      ]
     },
     "execution_count": 6,
     "metadata": {},
     "output_type": "execute_result"
    }
   ],
   "source": [
    "30+70"
   ]
  },
  {
   "cell_type": "code",
   "execution_count": 10,
   "id": "fe502e66",
   "metadata": {},
   "outputs": [],
   "source": [
    "x=6.324"
   ]
  },
  {
   "cell_type": "code",
   "execution_count": 13,
   "id": "effe7b64",
   "metadata": {},
   "outputs": [],
   "source": [
    "y=8.742"
   ]
  },
  {
   "cell_type": "code",
   "execution_count": 14,
   "id": "57a1834a",
   "metadata": {},
   "outputs": [
    {
     "data": {
      "text/plain": [
       "0.7234042553191489"
      ]
     },
     "execution_count": 14,
     "metadata": {},
     "output_type": "execute_result"
    }
   ],
   "source": [
    "x/y"
   ]
  },
  {
   "cell_type": "code",
   "execution_count": 20,
   "id": "0ca2195d",
   "metadata": {},
   "outputs": [],
   "source": [
    "a= 'Break'"
   ]
  },
  {
   "cell_type": "code",
   "execution_count": 21,
   "id": "d51fa083",
   "metadata": {},
   "outputs": [],
   "source": [
    "b= 'fast'"
   ]
  },
  {
   "cell_type": "code",
   "execution_count": 22,
   "id": "1b17af4e",
   "metadata": {},
   "outputs": [
    {
     "data": {
      "text/plain": [
       "'Breakfast'"
      ]
     },
     "execution_count": 22,
     "metadata": {},
     "output_type": "execute_result"
    }
   ],
   "source": [
    "a+b"
   ]
  },
  {
   "cell_type": "code",
   "execution_count": 29,
   "id": "ece9e2aa",
   "metadata": {},
   "outputs": [],
   "source": [
    "c= 'The wheather is nice,'"
   ]
  },
  {
   "cell_type": "code",
   "execution_count": 24,
   "id": "f4384f38",
   "metadata": {},
   "outputs": [],
   "source": [
    "d= 'Lets go out.'"
   ]
  },
  {
   "cell_type": "code",
   "execution_count": 32,
   "id": "692fab5f",
   "metadata": {},
   "outputs": [
    {
     "data": {
      "text/plain": [
       "'The wheather is nice . Lets go out.'"
      ]
     },
     "execution_count": 32,
     "metadata": {},
     "output_type": "execute_result"
    }
   ],
   "source": [
    "c+d"
   ]
  }
 ],
 "metadata": {
  "kernelspec": {
   "display_name": "Python 3 (ipykernel)",
   "language": "python",
   "name": "python3"
  },
  "language_info": {
   "codemirror_mode": {
    "name": "ipython",
    "version": 3
   },
   "file_extension": ".py",
   "mimetype": "text/x-python",
   "name": "python",
   "nbconvert_exporter": "python",
   "pygments_lexer": "ipython3",
   "version": "3.11.3"
  }
 },
 "nbformat": 4,
 "nbformat_minor": 5
}
